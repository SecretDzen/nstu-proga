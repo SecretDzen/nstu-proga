{
 "cells": [
  {
   "cell_type": "markdown",
   "id": "65009f94-65bd-4056-84ff-c6a58779ce24",
   "metadata": {
    "id": "65009f94-65bd-4056-84ff-c6a58779ce24"
   },
   "source": [
    "# Лабораторная работа #2"
   ]
  },
  {
   "cell_type": "code",
   "execution_count": null,
   "id": "_UVgjoTtvB_l",
   "metadata": {
    "id": "_UVgjoTtvB_l"
   },
   "outputs": [],
   "source": []
  },
  {
   "cell_type": "markdown",
   "id": "1a8d716a-10a0-4823-af5a-0d53ca634694",
   "metadata": {
    "id": "1a8d716a-10a0-4823-af5a-0d53ca634694",
    "jp-MarkdownHeadingCollapsed": true
   },
   "source": [
    "## Цель работы:\n",
    "Исследовать принцип работы сети Хопфилда и её сходимость к\n",
    "аттракторам, применение сети Хопфилда для распознавания образов./"
   ]
  },
  {
   "cell_type": "markdown",
   "id": "88a3e020-67e0-4c66-a659-e535c8626da7",
   "metadata": {
    "id": "88a3e020-67e0-4c66-a659-e535c8626da7"
   },
   "source": [
    "## Ход работы\n",
    "\n",
    "1. Ознакомится с базовыми понятиями\n",
    "2. Получить индивидуальный вариант:\n",
    "\n",
    "    2.1 Размер изображения в пикселях\n",
    "   \n",
    "    2.2 Вид графических символов\n",
    "   \n",
    "\n",
    "4. Ознакомиться с приёмами изменения размерности в библиотеке Numpy\n",
    "5. Создать (вручную, либо рисованием и загрузкой) 4-6 изображений заданного размера, соответвующие следующим требованиям:\n",
    "  - одно изображение - один уникальный символ;\n",
    "  - символы должны различаться большим количеством пикселей, избегайте визуально схожих (пример не подходящих: символ букв \"O\" и \"Q\");\n",
    "  - символ должен распологаться по центру изображения и занимать большую его прощадь;\n",
    "\n",
    "6. Создать и обучить НС Хопфилда для отдельных комплектов изображений. Для каждого обучения получить тепловую карту весовых коэфф. и зафиксировать в отчёте. Комплекты изображений:\n",
    "   - Единственное изображение №1\n",
    "   - Единственное изображение №2\n",
    "   - Единственное изображение №3\n",
    "   - Пара №1 изображений\n",
    "   - Пара №2 изображений\n",
    "   - Группы из трех и более изображений\n",
    "\n",
    "7. Провести опрос сети на всех исходных образцах. Результаты зафиксировать в отчёте.\n",
    "8. Провести опрос сети на образце с искажениями:\n",
    "    - Выбрать символ\n",
    "    - Внести искажения путём замены значений пикселей\n",
    "    - Подать изображение на вхож НС\n",
    "    - Сравнить изображение на входе и выходе НС\n",
    "    - Результаты зафиксировать в отчёте"
   ]
  },
  {
   "cell_type": "markdown",
   "id": "5addeb86-544d-4aee-8b06-43a099de9b10",
   "metadata": {
    "id": "5addeb86-544d-4aee-8b06-43a099de9b10"
   },
   "source": [
    "## Требования к отчету\n",
    "<font color='red'>\n",
    "- Формат отчёта: *doc, *docx\n",
    "<br>- Название отчета должно быть в формате: АВТ-0xx_ЛР-xx_Фамилия1_Фамилия2\n",
    "<br>- Каждый участник бригады отсылает отчёт бригады в своем ЛК Диспейс</font>\n",
    "\n",
    "1. Краткое описание и иллюстрации действий по ходу работы;\n",
    "2. Выводы и краткие описания полученных результатов\n"
   ]
  },
  {
   "cell_type": "markdown",
   "id": "2de2185b-ae00-4a03-9dfc-b016be86291f",
   "metadata": {
    "id": "2de2185b-ae00-4a03-9dfc-b016be86291f"
   },
   "source": [
    "## Дополнительные материалы\n",
    "- Хайкин С., \"Нейронные сети: полный курс\", 2008, стр. 856, гл. 14.7. Модель Хопфилда\n",
    "- Hopfield Networks is All You Need, URL: https://ml-jku.github.io/hopfield-layers/"
   ]
  },
  {
   "cell_type": "markdown",
   "id": "d8d40fb6-9833-4c96-aff3-f6cf764ca3ed",
   "metadata": {
    "id": "d8d40fb6-9833-4c96-aff3-f6cf764ca3ed"
   },
   "source": [
    "# Подключение библиотек"
   ]
  },
  {
   "cell_type": "markdown",
   "id": "26930372-9aba-4563-9a2a-63fef750db99",
   "metadata": {
    "id": "26930372-9aba-4563-9a2a-63fef750db99"
   },
   "source": [
    "Для выполнения работы потребуется установить дополнительную библиотеки:\n",
    "- neurolab - с реализацией сетей Хопфилда.\n",
    "- plotly - для отображения интерактивных графиков\n",
    "\n",
    "Команда для установки:\n",
    "\n",
    "    > pip3 install neurolab\n",
    "    > pip3 install plotly"
   ]
  },
  {
   "cell_type": "code",
   "execution_count": null,
   "id": "c0LY0V6piFkq",
   "metadata": {
    "colab": {
     "base_uri": "https://localhost:8080/"
    },
    "executionInfo": {
     "elapsed": 11166,
     "status": "ok",
     "timestamp": 1697139160025,
     "user": {
      "displayName": "Иван Осипенко",
      "userId": "16599116897440604411"
     },
     "user_tz": -420
    },
    "id": "c0LY0V6piFkq",
    "outputId": "30a68c88-e251-48aa-ea7e-c88fbbdcc8c1"
   },
   "outputs": [
    {
     "name": "stdout",
     "output_type": "stream",
     "text": [
      "Collecting neurolab\n",
      "  Downloading neurolab-0.3.5.tar.gz (645 kB)\n",
      "\u001b[?25l     \u001b[90m━━━━━━━━━━━━━━━━━━━━━━━━━━━━━━━━━━━━━━━━\u001b[0m \u001b[32m0.0/645.3 kB\u001b[0m \u001b[31m?\u001b[0m eta \u001b[36m-:--:--\u001b[0m\r\n",
      "\u001b[2K     \u001b[91m━━━━━━\u001b[0m\u001b[91m╸\u001b[0m\u001b[90m━━━━━━━━━━━━━━━━━━━━━━━━━━━━━━━━\u001b[0m \u001b[32m112.6/645.3 kB\u001b[0m \u001b[31m3.4 MB/s\u001b[0m eta \u001b[36m0:00:01\u001b[0m\r\n",
      "\u001b[2K     \u001b[91m━━━━━━━━━━━━━━━━━━━━━━━━━━━━━━━━━━━━━\u001b[0m\u001b[91m╸\u001b[0m \u001b[32m645.1/645.3 kB\u001b[0m \u001b[31m10.9 MB/s\u001b[0m eta \u001b[36m0:00:01\u001b[0m\r\n",
      "\u001b[2K     \u001b[90m━━━━━━━━━━━━━━━━━━━━━━━━━━━━━━━━━━━━━━━\u001b[0m \u001b[32m645.3/645.3 kB\u001b[0m \u001b[31m9.1 MB/s\u001b[0m eta \u001b[36m0:00:00\u001b[0m\n",
      "\u001b[?25h  Preparing metadata (setup.py) ... \u001b[?25l\u001b[?25hdone\n",
      "Building wheels for collected packages: neurolab\n",
      "  Building wheel for neurolab (setup.py) ... \u001b[?25l\u001b[?25hdone\n",
      "  Created wheel for neurolab: filename=neurolab-0.3.5-py3-none-any.whl size=22181 sha256=a135a3f971da5ab3e25520e3d82d7a9946372267c1b40f95a3f0db389669fd61\n",
      "  Stored in directory: /root/.cache/pip/wheels/1d/c0/44/7142fa43c89473c5e63a750a00224e5f9ec9ca80613de1f97d\n",
      "Successfully built neurolab\n",
      "Installing collected packages: neurolab\n",
      "Successfully installed neurolab-0.3.5\n"
     ]
    }
   ],
   "source": [
    "# Вызов команды установки библиотеки из среды jupyter\n",
    "#!pip3 install neurolab"
   ]
  },
  {
   "cell_type": "code",
   "execution_count": 2,
   "id": "5S4TLjSIC59P",
   "metadata": {
    "colab": {
     "base_uri": "https://localhost:8080/"
    },
    "executionInfo": {
     "elapsed": 22,
     "status": "ok",
     "timestamp": 1698143758658,
     "user": {
      "displayName": "Иван Осипенко",
      "userId": "16599116897440604411"
     },
     "user_tz": -420
    },
    "id": "5S4TLjSIC59P",
    "outputId": "6c7c2c1f-ea75-4573-b7fa-98b2075fe35c"
   },
   "outputs": [
    {
     "name": "stdout",
     "output_type": "stream",
     "text": [
      "Версия Python - 3.11.5 (main, Sep  2 2023, 14:16:33) [GCC 13.2.1 20230801]\n",
      "Путь к интерпретатору Python - /usr/bin/python\n"
     ]
    }
   ],
   "source": [
    "# Проверка версий и пути к выбранному интерпретатору\n",
    "import sys\n",
    "print(f\"Версия Python - {sys.version}\")\n",
    "print(f\"Путь к интерпретатору Python - {sys.executable}\")"
   ]
  },
  {
   "cell_type": "code",
   "execution_count": 3,
   "id": "5d26e26d-0e39-4106-a3f2-28d6047def41",
   "metadata": {
    "id": "5d26e26d-0e39-4106-a3f2-28d6047def41"
   },
   "outputs": [],
   "source": [
    "import numpy as np"
   ]
  },
  {
   "cell_type": "code",
   "execution_count": 4,
   "id": "a8056728-f18a-4e86-acaa-5a21b45be8c0",
   "metadata": {
    "id": "a8056728-f18a-4e86-acaa-5a21b45be8c0"
   },
   "outputs": [],
   "source": [
    "import neurolab as nl"
   ]
  },
  {
   "cell_type": "code",
   "execution_count": 5,
   "id": "68df64e6-f040-4eef-8fcc-1a9040b38003",
   "metadata": {
    "id": "68df64e6-f040-4eef-8fcc-1a9040b38003"
   },
   "outputs": [],
   "source": [
    "import matplotlib.pyplot as plt\n"
   ]
  },
  {
   "cell_type": "code",
   "execution_count": 6,
   "id": "d0796e14-1e7b-4b6c-877e-6cd0f93967f3",
   "metadata": {
    "editable": true,
    "id": "d0796e14-1e7b-4b6c-877e-6cd0f93967f3",
    "slideshow": {
     "slide_type": ""
    },
    "tags": []
   },
   "outputs": [],
   "source": [
    "from plotly.subplots import make_subplots\n",
    "import plotly.graph_objects as go\n",
    "import plotly.io as pio\n",
    "import matplotlib.pyplot as plt\n",
    "\n",
    "pio.renderers.default = \"iframe\""
   ]
  },
  {
   "cell_type": "code",
   "execution_count": 7,
   "id": "99b1117d-30bc-418d-a8c7-b65603f38232",
   "metadata": {
    "id": "99b1117d-30bc-418d-a8c7-b65603f38232"
   },
   "outputs": [],
   "source": [
    "import PIL\n",
    "from PIL import ImageTk, Image, ImageDraw, ImageOps\n",
    "\n",
    "import tkinter as tk\n",
    "import datetime\n",
    "import os"
   ]
  },
  {
   "cell_type": "code",
   "execution_count": 8,
   "id": "8e18d19c-e916-4c37-a540-e16a68b765c7",
   "metadata": {
    "id": "8e18d19c-e916-4c37-a540-e16a68b765c7"
   },
   "outputs": [],
   "source": [
    "import glob"
   ]
  },
  {
   "cell_type": "markdown",
   "id": "aef3667f-0b48-492d-a406-aeae7d22daed",
   "metadata": {
    "id": "aef3667f-0b48-492d-a406-aeae7d22daed"
   },
   "source": [
    "# Введение"
   ]
  },
  {
   "cell_type": "markdown",
   "id": "fc78237d-9a74-4550-8c9a-7dc30dbad577",
   "metadata": {
    "id": "fc78237d-9a74-4550-8c9a-7dc30dbad577"
   },
   "source": [
    "Нейронная сеть Хопфилда является\n",
    "полносвязной нейронной сетью с симметричной матрицей связей. Между сетями Хопфилда и рекуррентными (RNN) существуют различия\n",
    "сети Хопфилда частный случай рекуррентными."
   ]
  },
  {
   "cell_type": "markdown",
   "id": "f1a66b7b-652e-44d9-9285-6b76a103b2d0",
   "metadata": {
    "id": "f1a66b7b-652e-44d9-9285-6b76a103b2d0"
   },
   "source": [
    "## Функции активации"
   ]
  },
  {
   "cell_type": "markdown",
   "id": "f4c8780d-c79f-4dfc-9cbd-ed199110404e",
   "metadata": {
    "id": "f4c8780d-c79f-4dfc-9cbd-ed199110404e"
   },
   "source": [
    "Функции активации (activation), они же носят название передаточные (transfer), в НС осуществляют нелинейное преобразование, к пришедшим на вход данным. В используемом пакете `neurolab.trans.*` реализованы следующие функции\n",
    "\n",
    "|Название| y|Описание|\n",
    "|-|-|-|\n",
    "|Competitive| [0, 1]| Зануляет все значения, кроме минимального|\n",
    "|HardLim    | [0, 1]| Ступенчатая функция|\n",
    "|HardLims   | [-1, 1]| Симметричная ступенчатая функция |\n",
    "|LogSig     | [0, 1]| Логарифм сигмоиды |\n",
    "|PureLin    | [-inf, +inf]| Линейная |\n",
    "|SatLin     | [0, 1]| Линейная в интервале x=[0, 1], c насыщением вне интервала   |\n",
    "|SatLinPrm  | [0, 1]| Линейная с параметрическим выводом |\n",
    "|SatLins    | [-1, 1]| Симметричная линейная в интервале x=[0, 1], c насыщением вне интервала |\n",
    "|SoftMax    | [-1, 1]| Softmax |\n",
    "|TanSig     | [-1, 1]| Гиперболический тангенс |\n",
    "\n",
    "Transfer functions, URL  https://pythonhosted.org/neurolab/lib.html#module-neurolab.trans"
   ]
  },
  {
   "cell_type": "markdown",
   "id": "1de95bb5-4d15-440e-bb2f-59e381ec3093",
   "metadata": {
    "id": "1de95bb5-4d15-440e-bb2f-59e381ec3093"
   },
   "source": [
    "Осмотрим вид функций активации в зависимости от изменений аргумента.\n",
    "График является интерактивным. Нажимая на название функции в легенде графика вы можете управлять его отображением."
   ]
  },
  {
   "cell_type": "code",
   "execution_count": 9,
   "id": "bba98a43-a1f6-4539-8570-bb37f6d5ab65",
   "metadata": {
    "colab": {
     "base_uri": "https://localhost:8080/",
     "height": 617
    },
    "executionInfo": {
     "elapsed": 1111,
     "status": "ok",
     "timestamp": 1697139212017,
     "user": {
      "displayName": "Иван Осипенко",
      "userId": "16599116897440604411"
     },
     "user_tz": -420
    },
    "id": "bba98a43-a1f6-4539-8570-bb37f6d5ab65",
    "outputId": "b101d236-7eed-440f-b1af-e90be802ec28"
   },
   "outputs": [
    {
     "data": {
      "text/html": [
       "<iframe\n",
       "    scrolling=\"no\"\n",
       "    width=\"620px\"\n",
       "    height=\"620\"\n",
       "    src=\"iframe_figures/figure_9.html\"\n",
       "    frameborder=\"0\"\n",
       "    allowfullscreen\n",
       "></iframe>\n"
      ]
     },
     "metadata": {},
     "output_type": "display_data"
    }
   ],
   "source": [
    "# задать область определений\n",
    "x = np.linspace(start=-5, stop=5, num=1000)\n",
    "\n",
    "# Перечислить интересующие ф. активации в словаре (хэш-таблице)\n",
    "funcActDict = {\n",
    "     'Competitive': nl.trans.Competitive(),\n",
    "     'HardLim'    : nl.trans.HardLim(),   #  0, 1\n",
    "     'HardLims'   : nl.trans.HardLims(),  # -1, 1\n",
    "     'LogSig'     : nl.trans.LogSig(),    #  0, 1\n",
    "     'PureLin'    : nl.trans.PureLin(),   #  -inf, +inf\n",
    "     'SatLin'     : nl.trans.SatLin(),    #  0, 1\n",
    "     'SatLinPrm'  : nl.trans.SatLinPrm(), #  0, 1\n",
    "     'SatLins'    : nl.trans.SatLins(),   # -1, 1\n",
    "     'SoftMax'    : nl.trans.SoftMax(),\n",
    "     'TanSig'     : nl.trans.TanSig(),    # -1, 1\n",
    "    }\n",
    "\n",
    "# Создать полотно для графика\n",
    "fig = make_subplots(rows=1, cols=1)\n",
    "\n",
    "# Вычислить зн. y и отобразить для каждого соотвествующей функции\n",
    "\n",
    "for funcName in funcActDict.keys():\n",
    "    func = funcActDict[funcName]\n",
    "    y = func(x)\n",
    "    fig.add_trace(go.Scatter(   x=x,   y=y, name=funcName,), row=1, col=1)\n",
    "fig.update_layout(height=600, width=600,  title_text=\"Вид функций активации\")\n",
    "fig.update_layout(hovermode='x unified')\n",
    "fig.update_layout(yaxis_range=[-1.5, 1.5])\n",
    "fig.show()"
   ]
  },
  {
   "cell_type": "markdown",
   "id": "a372014e-a8d3-4fcb-919a-70f733eda643",
   "metadata": {
    "id": "a372014e-a8d3-4fcb-919a-70f733eda643"
   },
   "source": [
    "# Подготовка данных"
   ]
  },
  {
   "cell_type": "markdown",
   "id": "a8762870-38a2-4201-a9bd-7293151f7015",
   "metadata": {
    "id": "a8762870-38a2-4201-a9bd-7293151f7015"
   },
   "source": [
    "Растровые изображения могут быть представлены как матрица значений пикселей, определённой размерности."
   ]
  },
  {
   "cell_type": "markdown",
   "id": "fdc640d4-0741-4983-9da2-3058867ed60e",
   "metadata": {
    "id": "fdc640d4-0741-4983-9da2-3058867ed60e"
   },
   "source": [
    "## Измерение мерности массива Numpy"
   ]
  },
  {
   "cell_type": "markdown",
   "id": "e85038c4-e6e4-41cf-b881-47487637936a",
   "metadata": {
    "id": "e85038c4-e6e4-41cf-b881-47487637936a"
   },
   "source": [
    "Библиотека NumPy для работы с многомерными массивами содержит ряд функций, используемых в данной работе.\n",
    "\n",
    "Для освоения некоторых приёмов работы, создадим объект `myList` с типом данных `list`."
   ]
  },
  {
   "cell_type": "code",
   "execution_count": 10,
   "id": "a870ed40-e160-4c97-ba91-bafc9c645e53",
   "metadata": {
    "colab": {
     "base_uri": "https://localhost:8080/"
    },
    "executionInfo": {
     "elapsed": 82,
     "status": "ok",
     "timestamp": 1697636971504,
     "user": {
      "displayName": "Иван Осипенко",
      "userId": "16599116897440604411"
     },
     "user_tz": -420
    },
    "id": "a870ed40-e160-4c97-ba91-bafc9c645e53",
    "outputId": "16b865b5-c82a-49b1-aacb-f7236453d32b"
   },
   "outputs": [
    {
     "name": "stdout",
     "output_type": "stream",
     "text": [
      "[1, 2, 3, 4, 5, 6, 7, 8, 9, 10, 11, 12]\n",
      "type  =  <class 'list'>\n"
     ]
    }
   ],
   "source": [
    "myList = [1,2,3,4,5,6,7,8,9,10,11,12,]\n",
    "print(myList)\n",
    "print('type  = ', type(myList))"
   ]
  },
  {
   "cell_type": "markdown",
   "id": "c0df77f1-efa1-4c0d-8664-e131e043d705",
   "metadata": {
    "id": "c0df77f1-efa1-4c0d-8664-e131e043d705"
   },
   "source": [
    "Функция `np.array(array_like)` и `np.asfarray(array_like)`, принимая списочную структуру, создаёт новый массив с типом данных `numpy.ndarray`."
   ]
  },
  {
   "cell_type": "code",
   "execution_count": 11,
   "id": "2bac4e10-88f8-40fa-873c-6750c7045e55",
   "metadata": {
    "colab": {
     "base_uri": "https://localhost:8080/"
    },
    "executionInfo": {
     "elapsed": 77,
     "status": "ok",
     "timestamp": 1697636971505,
     "user": {
      "displayName": "Иван Осипенко",
      "userId": "16599116897440604411"
     },
     "user_tz": -420
    },
    "id": "2bac4e10-88f8-40fa-873c-6750c7045e55",
    "outputId": "3d2d2c52-8658-494d-b3bf-3ca1e8e2ebde"
   },
   "outputs": [
    {
     "name": "stdout",
     "output_type": "stream",
     "text": [
      "[ 1.  2.  3.  4.  5.  6.  7.  8.  9. 10. 11. 12.]\n",
      "type  =  <class 'numpy.ndarray'>\n"
     ]
    }
   ],
   "source": [
    "myNumpyArr = np.asfarray( myList )\n",
    "print(myNumpyArr)\n",
    "print('type  = ', type(myNumpyArr))"
   ]
  },
  {
   "cell_type": "markdown",
   "id": "af1be55d-2d7b-42e6-b45b-7c649345c7de",
   "metadata": {
    "id": "af1be55d-2d7b-42e6-b45b-7c649345c7de"
   },
   "source": [
    "Объект массив Numpy содержит атрибут `.shape`, который возвращает текущую размерность массива."
   ]
  },
  {
   "cell_type": "code",
   "execution_count": 12,
   "id": "fe8cfde1-403e-4ec8-a3d7-4c853ab804f3",
   "metadata": {
    "colab": {
     "base_uri": "https://localhost:8080/"
    },
    "executionInfo": {
     "elapsed": 67,
     "status": "ok",
     "timestamp": 1697636971506,
     "user": {
      "displayName": "Иван Осипенко",
      "userId": "16599116897440604411"
     },
     "user_tz": -420
    },
    "id": "fe8cfde1-403e-4ec8-a3d7-4c853ab804f3",
    "outputId": "0a717627-e81a-4d5f-9219-9a8aae1195e0"
   },
   "outputs": [
    {
     "name": "stdout",
     "output_type": "stream",
     "text": [
      "[ 1.  2.  3.  4.  5.  6.  7.  8.  9. 10. 11. 12.]\n",
      "shape =  (12,)\n"
     ]
    }
   ],
   "source": [
    "print(myNumpyArr)\n",
    "print('shape = ', myNumpyArr.shape)"
   ]
  },
  {
   "cell_type": "markdown",
   "id": "ffcd5a36-34c9-48f4-9c4b-0da1b591f06e",
   "metadata": {
    "id": "ffcd5a36-34c9-48f4-9c4b-0da1b591f06e"
   },
   "source": [
    "Размерность массива можно изменять, \"переупаковывая значения\" в одно-, двух, многомерное представление исходного. Для этого используется функция `.reshape( новый_размер )`, где новый размер может быть указан единственным положительным целым числом, либо последовательностью таких чисел. Допустимо использовать в качестве нового размера значение `-1`, для автоматического подбора допустимого значения."
   ]
  },
  {
   "cell_type": "code",
   "execution_count": 13,
   "id": "47dcc516-4a46-427f-986b-5336c95711f4",
   "metadata": {
    "colab": {
     "base_uri": "https://localhost:8080/"
    },
    "executionInfo": {
     "elapsed": 60,
     "status": "ok",
     "timestamp": 1697636971510,
     "user": {
      "displayName": "Иван Осипенко",
      "userId": "16599116897440604411"
     },
     "user_tz": -420
    },
    "id": "47dcc516-4a46-427f-986b-5336c95711f4",
    "outputId": "997a85db-5e3d-43f9-aaa9-7b8f98d03292"
   },
   "outputs": [
    {
     "name": "stdout",
     "output_type": "stream",
     "text": [
      "shape =  (3, 4)\n",
      "[[ 1.  2.  3.  4.]\n",
      " [ 5.  6.  7.  8.]\n",
      " [ 9. 10. 11. 12.]]\n"
     ]
    }
   ],
   "source": [
    "myNumpyArr= myNumpyArr.reshape(3,4)\n",
    "print('shape = ', myNumpyArr.shape)\n",
    "print(myNumpyArr)"
   ]
  },
  {
   "cell_type": "code",
   "execution_count": 14,
   "id": "d401c806-b187-46d6-9dd3-49228e0010c2",
   "metadata": {
    "colab": {
     "base_uri": "https://localhost:8080/"
    },
    "executionInfo": {
     "elapsed": 49,
     "status": "ok",
     "timestamp": 1697636971512,
     "user": {
      "displayName": "Иван Осипенко",
      "userId": "16599116897440604411"
     },
     "user_tz": -420
    },
    "id": "d401c806-b187-46d6-9dd3-49228e0010c2",
    "outputId": "83000ded-594c-4314-ee21-657ea546b34a"
   },
   "outputs": [
    {
     "name": "stdout",
     "output_type": "stream",
     "text": [
      "shape =  (4, 3)\n",
      "[[ 1.  2.  3.]\n",
      " [ 4.  5.  6.]\n",
      " [ 7.  8.  9.]\n",
      " [10. 11. 12.]]\n"
     ]
    }
   ],
   "source": [
    "myNumpyArr= myNumpyArr.reshape(4,3)\n",
    "print('shape = ', myNumpyArr.shape)\n",
    "print(myNumpyArr)"
   ]
  },
  {
   "cell_type": "code",
   "execution_count": 15,
   "id": "0344bbd6-0873-42a7-b8ef-72cd932abb91",
   "metadata": {
    "colab": {
     "base_uri": "https://localhost:8080/"
    },
    "executionInfo": {
     "elapsed": 40,
     "status": "ok",
     "timestamp": 1697636971513,
     "user": {
      "displayName": "Иван Осипенко",
      "userId": "16599116897440604411"
     },
     "user_tz": -420
    },
    "id": "0344bbd6-0873-42a7-b8ef-72cd932abb91",
    "outputId": "e7d2d9da-ffdf-427b-e497-8ea1b1614151"
   },
   "outputs": [
    {
     "name": "stdout",
     "output_type": "stream",
     "text": [
      "shape =  (6, 2)\n",
      "[[ 1.  2.]\n",
      " [ 3.  4.]\n",
      " [ 5.  6.]\n",
      " [ 7.  8.]\n",
      " [ 9. 10.]\n",
      " [11. 12.]]\n"
     ]
    }
   ],
   "source": [
    "myNumpyArr= myNumpyArr.reshape(-1,2)\n",
    "print('shape = ', myNumpyArr.shape)\n",
    "print(myNumpyArr)"
   ]
  },
  {
   "cell_type": "code",
   "execution_count": 16,
   "id": "AaDGUfNhCsH2",
   "metadata": {
    "colab": {
     "base_uri": "https://localhost:8080/"
    },
    "executionInfo": {
     "elapsed": 36,
     "status": "ok",
     "timestamp": 1697636971515,
     "user": {
      "displayName": "Иван Осипенко",
      "userId": "16599116897440604411"
     },
     "user_tz": -420
    },
    "id": "AaDGUfNhCsH2",
    "outputId": "91eca7bf-0a3b-4acc-b3a9-1dc475f10616"
   },
   "outputs": [
    {
     "name": "stdout",
     "output_type": "stream",
     "text": [
      "shape =  (3, 2, 2)\n",
      "[[[ 1.  2.]\n",
      "  [ 3.  4.]]\n",
      "\n",
      " [[ 5.  6.]\n",
      "  [ 7.  8.]]\n",
      "\n",
      " [[ 9. 10.]\n",
      "  [11. 12.]]]\n"
     ]
    }
   ],
   "source": [
    "myNumpyArr= myNumpyArr.reshape(3,2,2)\n",
    "print('shape = ', myNumpyArr.shape)\n",
    "print(myNumpyArr)"
   ]
  },
  {
   "cell_type": "markdown",
   "id": "ca4cec2e-31de-4334-994f-efef434c46b2",
   "metadata": {
    "id": "ca4cec2e-31de-4334-994f-efef434c46b2"
   },
   "source": [
    "Для преобразования в одномерный массив можно использовать функцию `.ravel()`, либо `.reshape(-1)`"
   ]
  },
  {
   "cell_type": "code",
   "execution_count": 17,
   "id": "ece3d929-bc19-49ad-aea6-d57e6664ae35",
   "metadata": {
    "colab": {
     "base_uri": "https://localhost:8080/"
    },
    "id": "ece3d929-bc19-49ad-aea6-d57e6664ae35",
    "outputId": "a9b9143f-cb06-4263-e2b2-7a36fb4f1dbb"
   },
   "outputs": [
    {
     "name": "stdout",
     "output_type": "stream",
     "text": [
      "shape =  (12,)\n",
      "[ 1.  2.  3.  4.  5.  6.  7.  8.  9. 10. 11. 12.]\n"
     ]
    }
   ],
   "source": [
    "myNumpyArr = myNumpyArr.ravel()\n",
    "print('shape = ', myNumpyArr.shape)\n",
    "print(myNumpyArr)"
   ]
  },
  {
   "cell_type": "code",
   "execution_count": null,
   "id": "c09c7a72-9384-4e9b-8dba-8c98420143d2",
   "metadata": {
    "id": "c09c7a72-9384-4e9b-8dba-8c98420143d2"
   },
   "outputs": [],
   "source": []
  },
  {
   "cell_type": "markdown",
   "id": "7be7852a-a95e-48ad-8afb-1cecd4ab949a",
   "metadata": {
    "id": "7be7852a-a95e-48ad-8afb-1cecd4ab949a"
   },
   "source": [
    "## Создание набора изображений"
   ]
  },
  {
   "cell_type": "markdown",
   "id": "0108b8d8-4bbe-4645-8c8a-d86baf1d5350",
   "metadata": {
    "id": "0108b8d8-4bbe-4645-8c8a-d86baf1d5350"
   },
   "source": [
    "Для дальнейшей работы с нейронной сетью Хопфилда потребуются 4-10 изображений(образцов), каждое из которых должно содержать уникальный символ. Для начала размеры изображений выберем не более 10x10 пикселей.  Одиночные изображения позднее должны быть объединены в массив обучающего набора `targetList`.\n",
    "\n",
    "Изображения(образцы) вы можете получить двумя способами:\n",
    "1. Вручную создавать одномерные массивы, где значения будут интерпретироваться как яркость пикселей.\n",
    "2. Нарисовать, сохранить изображения в графическом окне. Использовать загрузку сохранённых файлов-изображений."
   ]
  },
  {
   "cell_type": "markdown",
   "id": "656d19db-f3a9-4d29-8c6e-bc372bea7bfc",
   "metadata": {
    "id": "656d19db-f3a9-4d29-8c6e-bc372bea7bfc"
   },
   "source": [
    "### Способ 1. Ручное создание и наполнение одномерных массивов."
   ]
  },
  {
   "cell_type": "markdown",
   "id": "3a904103-dacc-4ebd-a059-aa0673fd9a56",
   "metadata": {
    "id": "3a904103-dacc-4ebd-a059-aa0673fd9a56"
   },
   "source": [
    "![изображение.png](data:image/png;base64,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)"
   ]
  },
  {
   "cell_type": "markdown",
   "id": "206fec26-0da9-4096-b3bd-3297199da18d",
   "metadata": {
    "id": "206fec26-0da9-4096-b3bd-3297199da18d"
   },
   "source": [
    "Каждое отдельное изображение может быть представлено в виде знаний массива (списка list в python)."
   ]
  },
  {
   "cell_type": "code",
   "execution_count": 73,
   "id": "3e0ac812-7a14-4ca4-8dcb-5dcfd5903fc2",
   "metadata": {
    "id": "3e0ac812-7a14-4ca4-8dcb-5dcfd5903fc2"
   },
   "outputs": [],
   "source": [
    "symbol0 = [0, 0, 0, 0, 0, 0, 0, 0, 0, 0, # Изображение HxW. Символ - круг\n",
    "           0, 0, 0, 1, 1, 1, 1, 0, 0, 0,\n",
    "           0, 0, 1, 0, 0, 0, 0, 1, 0, 0,\n",
    "           0, 1, 0, 0, 0, 0, 0, 0, 1, 0,\n",
    "           0, 1, 0, 0, 0, 0, 0, 0, 1, 0,\n",
    "           0, 1, 0, 0, 0, 0, 0, 0, 1, 0,\n",
    "           0, 1, 0, 0, 0, 0, 0, 0, 1, 0,\n",
    "           0, 0, 1, 0, 0, 0, 0, 1, 0, 0,\n",
    "           0, 0, 0, 1, 1, 1, 1, 0, 0, 0,\n",
    "           0, 0, 0, 0, 0, 0, 0, 0, 0, 0,\n",
    "          ]\n",
    "\n",
    "symbol1 = [0, 0, 0, 0, 0, 0, 0, 0, 0, 0, # Изображение HxW. Символ - крест\n",
    "           0, 0, 0, 0, 1, 1, 0, 0, 0, 0,\n",
    "           0, 0, 0, 0, 1, 1, 0, 0, 0, 0,\n",
    "           0, 0, 0, 0, 1, 1, 0, 0, 0, 0,\n",
    "           0, 1, 1, 1, 1, 1, 1, 1, 1, 0,\n",
    "           0, 1, 1, 1, 1, 1, 1, 1, 1, 0,\n",
    "           0, 0, 0, 0, 1, 1, 0, 0, 0, 0,\n",
    "           0, 0, 0, 0, 1, 1, 0, 0, 0, 0,\n",
    "           0, 0, 0, 0, 1, 1, 0, 0, 0, 0,\n",
    "           0, 0, 0, 0, 0, 0, 0, 0, 0, 0,\n",
    "          ]\n",
    "\n",
    "symbol2 = [0, 0, 0, 0, 0, 0, 0, 0, 0, 0, # Изображение HxW. Символ - треугольник\n",
    "           0, 0, 0, 0, 0, 0, 0, 0, 0, 0,\n",
    "           0, 0, 0, 0, 1, 1, 0, 0, 0, 0,\n",
    "           0, 0, 0, 1, 0, 0, 1, 0, 0, 0,\n",
    "           0, 0, 0, 1, 0, 0, 1, 0, 0, 0,\n",
    "           0, 0, 1, 0, 0, 0, 0, 1, 0, 0,\n",
    "           0, 0, 1, 0, 0, 0, 0, 1, 0, 0,\n",
    "           0, 1, 0, 0, 0, 0, 0, 0, 1, 0,\n",
    "           0, 1, 1, 1, 1, 1, 1, 1, 1, 0,\n",
    "           0, 0, 0, 0, 0, 0, 0, 0, 0, 0,\n",
    "          ]\n",
    "\n",
    "# symbol0 = [0, 0, 0, 0, 0, 0, 0, 0, 0, 0, # Изображение HxW. Символ - круг\n",
    "#            0, 0, 0, 0, 0, 0, 0, 0, 0, 0,\n",
    "#            0, 0, 0, 0, 0, 0, 0, 0, 0, 0,\n",
    "#            0, 0, 0, 0, 0, 0, 0, 0, 0, 0,\n",
    "#            0, 0, 0, 0, 0, 0, 0, 0, 0, 0,\n",
    "#            0, 0, 0, 0, 0, 0, 0, 0, 0, 0,\n",
    "#            0, 0, 0, 0, 0, 0, 0, 0, 0, 0,\n",
    "#            0, 0, 0, 0, 0, 0, 0, 0, 0, 0,\n",
    "#            0, 0, 0, 0, 0, 0, 0, 0, 0, 0,\n",
    "#            0, 0, 0, 0, 0, 0, 0, 0, 0, 0,\n",
    "#           ]\n"
   ]
  },
  {
   "cell_type": "code",
   "execution_count": 74,
   "id": "953fc7f2-beff-4357-8a29-62a911d9511a",
   "metadata": {
    "colab": {
     "base_uri": "https://localhost:8080/"
    },
    "id": "953fc7f2-beff-4357-8a29-62a911d9511a",
    "outputId": "e06472eb-ddda-4a20-b02e-be4eb254045d"
   },
   "outputs": [
    {
     "name": "stdout",
     "output_type": "stream",
     "text": [
      "[0, 0, 0, 0, 0, 0, 0, 0, 0, 0, 0, 0, 0, 1, 1, 1, 1, 0, 0, 0, 0, 0, 1, 0, 0, 0, 0, 1, 0, 0, 0, 1, 0, 0, 0, 0, 0, 0, 1, 0, 0, 1, 0, 0, 0, 0, 0, 0, 1, 0, 0, 1, 0, 0, 0, 0, 0, 0, 1, 0, 0, 1, 0, 0, 0, 0, 0, 0, 1, 0, 0, 0, 1, 0, 0, 0, 0, 1, 0, 0, 0, 0, 0, 1, 1, 1, 1, 0, 0, 0, 0, 0, 0, 0, 0, 0, 0, 0, 0, 0]\n"
     ]
    }
   ],
   "source": [
    "print(symbol0)"
   ]
  },
  {
   "cell_type": "markdown",
   "id": "57f01272-6825-40fa-9066-70cc89dd7507",
   "metadata": {
    "id": "57f01272-6825-40fa-9066-70cc89dd7507"
   },
   "source": [
    "Объединим отдельные изображения в обучающий набор `targetList`.\n",
    "\n",
    "Используйте комбинацию клавиш `Ctrl+/` для быстрой постановки и снятия комментариев"
   ]
  },
  {
   "cell_type": "code",
   "execution_count": 75,
   "id": "b5f74b5b-c32d-4a1b-9694-1df42fd35132",
   "metadata": {
    "id": "b5f74b5b-c32d-4a1b-9694-1df42fd35132",
    "outputId": "bef35dfa-e7e7-4b4a-89d5-833a0238c43c"
   },
   "outputs": [
    {
     "name": "stdout",
     "output_type": "stream",
     "text": [
      "targetList. Тип данных  <class 'list'>\n",
      "targetList. Кол-во элементов  3\n",
      "[[0, 0, 0, 0, 0, 0, 0, 0, 0, 0, 0, 0, 0, 1, 1, 1, 1, 0, 0, 0, 0, 0, 1, 0, 0, 0, 0, 1, 0, 0, 0, 1, 0, 0, 0, 0, 0, 0, 1, 0, 0, 1, 0, 0, 0, 0, 0, 0, 1, 0, 0, 1, 0, 0, 0, 0, 0, 0, 1, 0, 0, 1, 0, 0, 0, 0, 0, 0, 1, 0, 0, 0, 1, 0, 0, 0, 0, 1, 0, 0, 0, 0, 0, 1, 1, 1, 1, 0, 0, 0, 0, 0, 0, 0, 0, 0, 0, 0, 0, 0], [0, 0, 0, 0, 0, 0, 0, 0, 0, 0, 0, 0, 0, 0, 1, 1, 0, 0, 0, 0, 0, 0, 0, 0, 1, 1, 0, 0, 0, 0, 0, 0, 0, 0, 1, 1, 0, 0, 0, 0, 0, 1, 1, 1, 1, 1, 1, 1, 1, 0, 0, 1, 1, 1, 1, 1, 1, 1, 1, 0, 0, 0, 0, 0, 1, 1, 0, 0, 0, 0, 0, 0, 0, 0, 1, 1, 0, 0, 0, 0, 0, 0, 0, 0, 1, 1, 0, 0, 0, 0, 0, 0, 0, 0, 0, 0, 0, 0, 0, 0], [0, 0, 0, 0, 0, 0, 0, 0, 0, 0, 0, 0, 0, 0, 0, 0, 0, 0, 0, 0, 0, 0, 0, 0, 1, 1, 0, 0, 0, 0, 0, 0, 0, 1, 0, 0, 1, 0, 0, 0, 0, 0, 0, 1, 0, 0, 1, 0, 0, 0, 0, 0, 1, 0, 0, 0, 0, 1, 0, 0, 0, 0, 1, 0, 0, 0, 0, 1, 0, 0, 0, 1, 0, 0, 0, 0, 0, 0, 1, 0, 0, 1, 1, 1, 1, 1, 1, 1, 1, 0, 0, 0, 0, 0, 0, 0, 0, 0, 0, 0]]\n"
     ]
    }
   ],
   "source": [
    "targetList = list() # создать пустой список\n",
    "\n",
    "targetList.append(symbol0)  # добавить изображение в список\n",
    "targetList.append(symbol1)\n",
    "targetList.append(symbol2)\n",
    "# ...\n",
    "print('targetList. Тип данных ', type(targetList))\n",
    "print('targetList. Кол-во элементов ', len(targetList))\n",
    "\n",
    "print(targetList)"
   ]
  },
  {
   "cell_type": "code",
   "execution_count": null,
   "id": "6e8fd3f2-0c1a-4361-a983-ab76fbdf41f1",
   "metadata": {
    "id": "6e8fd3f2-0c1a-4361-a983-ab76fbdf41f1"
   },
   "outputs": [],
   "source": []
  },
  {
   "cell_type": "code",
   "execution_count": null,
   "id": "b2f715a5-1e5f-4726-8599-cbc41d2e1716",
   "metadata": {
    "id": "b2f715a5-1e5f-4726-8599-cbc41d2e1716"
   },
   "outputs": [],
   "source": []
  },
  {
   "cell_type": "markdown",
   "id": "0d504d0f-9c64-46f6-97e2-e935e7e60956",
   "metadata": {
    "id": "0d504d0f-9c64-46f6-97e2-e935e7e60956",
    "jp-MarkdownHeadingCollapsed": true
   },
   "source": [
    "### Способ 2. Использование сохранённых файлов-изображений."
   ]
  },
  {
   "cell_type": "markdown",
   "id": "5298b5fd-dab1-414f-a099-a242221a703c",
   "metadata": {
    "id": "5298b5fd-dab1-414f-a099-a242221a703c"
   },
   "source": [
    "#### Создание и сохранение изображений используя графическое окно. Tkinter."
   ]
  },
  {
   "cell_type": "markdown",
   "id": "2f8c47df-b718-4ba8-aaf9-fe7b65308b23",
   "metadata": {
    "id": "2f8c47df-b718-4ba8-aaf9-fe7b65308b23"
   },
   "source": [
    "Для более удобного создания изображений вы можете использовать графическое окно рисования.\n",
    "\n",
    "Определим переменные: `imgH`, `imgW` -размеры каждого изображения и `pathFotImgs` путь хранения файлов."
   ]
  },
  {
   "cell_type": "code",
   "execution_count": null,
   "id": "3720497f-76c5-4a85-bec8-28526bae5297",
   "metadata": {
    "id": "3720497f-76c5-4a85-bec8-28526bae5297"
   },
   "outputs": [],
   "source": [
    "myImgH = 10\n",
    "myImgW = 10\n",
    "myPathFotImgs = 'imgsHopfield'"
   ]
  },
  {
   "cell_type": "markdown",
   "id": "cca777c0-2f18-4afb-8721-55494b36e8aa",
   "metadata": {
    "id": "cca777c0-2f18-4afb-8721-55494b36e8aa"
   },
   "source": [
    "Следующий код подготовит отдельное графическое окно с областью для рисования.\n",
    "\n",
    "<font color='red'>\n",
    "Внимание! Данный способ создания окна для рисования изображений не сработает при работе в GoogleColab и расчитан на работу в локальном режиме установки jupyter.\n",
    "</font>"
   ]
  },
  {
   "cell_type": "code",
   "execution_count": null,
   "id": "6cfc6c33-3a9b-40bf-9fbe-8057e33fa5d1",
   "metadata": {
    "id": "6cfc6c33-3a9b-40bf-9fbe-8057e33fa5d1"
   },
   "outputs": [],
   "source": [
    "class myWinTK ():\n",
    "    ''' Класс графического окна для рисования изображений '''\n",
    "\n",
    "    def getImage(self):\n",
    "        _image = Image.fromarray( self.output_numpy*255.0, ).convert( mode='1') #  преобразовать к массиву значений, конвертировать в черно/белый\n",
    "        #_image = _image.resize((self.widthSave, self.heightSave), PIL.Image.BILINEAR)  # привести к размеру\n",
    "        #print(f'getImage  {_image.size}, type {type(_image)})\n",
    "        return _image\n",
    "\n",
    "    def saveToFileFunc(self):\n",
    "        ''' сохранить изображение '''\n",
    "        timestamp = datetime.datetime.now().strftime(\"%Y-%m-%d-%H-%M-%S\")\n",
    "        filename = f'img_{timestamp}'\n",
    "        filepathBig   = os.path.join(self.pathFotImgs,   '_smallResizedFromBig_'+filename+'.png')\n",
    "        filepathSmall = os.path.join(self.pathFotImgs, f'[{self.widthSave},{self.heightSave}]'              +filename+'.png')\n",
    "\n",
    "        _saved_image = self.getImage() # получить матрицу пикселей изображения с полотна области рисования\n",
    "        _saved_image.save(filepathSmall, quality=100, subsampling=0) # сохранить\n",
    "        print(f\"Изображение сохранено {filepathSmall}\")\n",
    "\n",
    "    def drawGrid(self, workCanvas):\n",
    "        # нанести сетку только для окна рисования (не применяется к финальному изображению)\n",
    "        for ih in range(0, self.heightGUI//self.gridSize): # по высоте горизонтальные\n",
    "            workCanvas.create_line(0,                 self.gridSize*ih*1, self.widthGUI,      self.gridSize*ih*1, fill='#555555')\n",
    "        for iw in range(0 ,self.widthGUI//self.gridSize): # по ширине вертикальные\n",
    "            workCanvas.create_line(self.gridSize*iw*1,                 0, self.gridSize*iw*1, self.heightGUI,     fill='#555555')\n",
    "\n",
    "    def clearFunc(self):\n",
    "        ''' очистить поле '''\n",
    "        self.output_numpy[:] = 0\n",
    "        self.draw.rectangle((0, 0, self.widthGUI, self.heightGUI), fill=(0, 0, 0, 0))\n",
    "        self.canvasTk.delete(\"all\")\n",
    "        self.canvasTk.create_rectangle(0, 0, self.widthGUI, self.heightGUI, fill='black')\n",
    "        self.drawGrid(workCanvas = self.canvasTk)\n",
    "        if self.modelForPredictTensorflow is not None:\n",
    "            self.T.delete('1.0', tk.END)\n",
    "        if self.modelForPredictHopfield is not None:\n",
    "            self.canvasHopfieldOut.delete(\"all\")\n",
    "            self.drawGrid(workCanvas = self.canvasHopfieldOut)\n",
    "\n",
    "    def calcXY(self,nx,ny):\n",
    "        grxScaled=nx*self.gridSize # масштабирование до видимого интерфейса\n",
    "        gryScaled=ny*self.gridSize\n",
    "        x1, y1 = grxScaled, gryScaled # вычисление углов масштабированого пикселя для до видимого интерфейса\n",
    "        x2, y2 = (grxScaled + self.gridSize), (gryScaled + self.gridSize)\n",
    "        return x1, y1, x2, y2\n",
    "\n",
    "    def paintFunc(self,event):\n",
    "        ''' нанести точку '''\n",
    "        if  event.x>= self.widthGUI or event.y >=self.heightGUI :  return\n",
    "        grx=event.x//self.gridSize # округление до номера клеток\n",
    "        gry=event.y//self.gridSize\n",
    "        x1, y1, x2, y2 = self.calcXY(nx=grx,ny=gry)\n",
    "\n",
    "        colorName= None\n",
    "        if event.num == 1 or event.state==264:\n",
    "            colorName = \"white\"\n",
    "            colorBin = 1\n",
    "        elif event.num == 3 or event.state==1032:\n",
    "            colorName = \"black\"\n",
    "            colorBin = 0\n",
    "        if colorName:\n",
    "            # видимый интерфейс\n",
    "            self.canvasTk.create_rectangle(x1, y1, x2, y2, fill=colorName, width=1) #gridSize-1\n",
    "            # полотно для сохранения\n",
    "            self.draw.rectangle((x1, y1, x2, y2), fill=(255, 255, 255, 0))\n",
    "            self.output_numpy[gry, grx] = colorBin\n",
    "\n",
    "    def predictFromDraw(self):\n",
    "        ''' Подать изображение с полотна на вход модели НС для классификаии '''\n",
    "        _image = self.getImage() # получить матрицу пикселей изображения с полотна области рисования\n",
    "        numpy_array = np.array(_image, dtype=float)\n",
    "\n",
    "        # Опрос модели\n",
    "        with tf.device('/CPU:0'):\n",
    "            # Переупаковка единственного изображения для подачи на вход НС\n",
    "            numpy_array = numpy_array.reshape(1, self.widthSave, self.heightSave)\n",
    "            #print(\"predictFromDraw:\", numpy_array.shape)\n",
    "\n",
    "            # Вызов ф. predict - вычисление одиночного ответа\n",
    "            y_pred = model.predict(numpy_array)\n",
    "            maxProbClass = tf.argmax(y_pred, axis=1).numpy()[0]\n",
    "\n",
    "            # Вывод ответа в текстовое поле\n",
    "            self.T.delete('1.0', tk.END)\n",
    "            self.T.insert(tk.END,f'Ответы НС\\n(макс. вероятн. Класс_{maxProbClass}):\\n')\n",
    "            for i, probability in enumerate(y_pred[0]):\n",
    "                self.T.insert(tk.END, f'  Выч. класс_{i}: {probability:>7.1%}\\n' )\n",
    "\n",
    "    def hopfieldNetFunc(self):\n",
    "        _image = self.getImage() # получить матрицу пикселей изображения с полотна области рисования\n",
    "        numpy_array = np.array(_image, dtype=float)\n",
    "\n",
    "        # Получить ответ\n",
    "        out = self.modelForPredictHopfield.sim(\n",
    "                                                input=numpy_array.reshape(1,-1) )\n",
    "        out = out.reshape(numpy_array.shape[0],numpy_array.shape[1]) # приведение к массива размерности (H*W,) к (H,W)\n",
    "\n",
    "        self.canvasHopfieldOut.delete(\"all\") # очистить поле рисования второго окна\n",
    "\n",
    "        for (col,row), val in np.ndenumerate( out ): # отобразить графически ответ НС - уставноить цвет областей \"пикселей\"\n",
    "            if val==1:\n",
    "                x1, y1, x2, y2 = self.calcXY(nx=row,ny=col)\n",
    "                self.canvasHopfieldOut.create_rectangle(x1, y1, x2, y2, fill='white', width=1) #gridSize-1\n",
    "\n",
    "        self.drawGrid(workCanvas = self.canvasHopfieldOut) # нанести сетку\n",
    "\n",
    "\n",
    "    def __init__(self, imgW=50, ImgH=50, gridSize=None, modelTensorflow = None, modelHopfield=None, pathFotImgs = 'imgs'):\n",
    "        '''\n",
    "        imgW=50, ImgH=50,  - размер выходного сохраняемого изображения, в пикселях\n",
    "        gridSize=None, - размер пикселя-клетки при рисовании в графическом интрфейсе\n",
    "        modelTensorflow = None, - обученная модель TensorFlow для классификации\n",
    "        modelHopfield   = None, - обученная модель библиотеки neurolab\n",
    "\n",
    "        pathFotImgs = 'imgs' - путь для сохранения изображений\n",
    "        '''\n",
    "        self.widthSave, self.heightSave = imgW, ImgH\n",
    "        self.gridSize    = gridSize\n",
    "        if self.gridSize is None:\n",
    "            maxSide = max(self.widthSave, self.heightSave)\n",
    "            if maxSide<10: self.gridSize = 300//maxSide\n",
    "            else:          self.gridSize = 400//maxSide\n",
    "        self.widthGUI,  self.heightGUI  = self.widthSave*self.gridSize, self.heightSave*self.gridSize  #размер видимого окна\n",
    "        print(f'Размер изображения ШхВ = {self.widthSave}х{self.heightSave} пикс.')\n",
    "\n",
    "        self.output_image    = PIL.Image.new(\"RGB\", (self.widthGUI, self.heightGUI), (0,0,0)) # PIL Изображение\n",
    "        self.draw            = PIL.ImageDraw.Draw(self.output_image)                          # поле для рисования\n",
    "        self.output_numpy = np.zeros((self.heightSave, self.widthSave,),dtype=int)         # массив для значений пикселей\n",
    "\n",
    "        # Графический интерфейс\n",
    "        rootWindow = tk.Tk() # основное окно\n",
    "        self.canvasTk = tk.Canvas(rootWindow, width=self.widthGUI, height=self.heightGUI, bg='black')\n",
    "        self.canvasTk.bind(\"<B1-Motion>\", self.paintFunc)\n",
    "        self.canvasTk.bind(\"<B3-Motion>\", self.paintFunc)\n",
    "        self.canvasTk.bind(\"<Button-1>\",  self.paintFunc)\n",
    "        self.canvasTk.bind(\"<Button-3>\",  self.paintFunc)\n",
    "        self.canvasTk.pack(expand=tk.YES, fill=tk.BOTH)\n",
    "        self.drawGrid(workCanvas = self.canvasTk)\n",
    "\n",
    "        self.canvasHopfieldOut=None # поле для рисования второго окна для вывода ответов НС Хопфилда\n",
    "\n",
    "        self.modelForPredictTensorflow = modelTensorflow # объекты обученных НС для получения ответов\n",
    "        self.modelForPredictHopfield   = modelHopfield\n",
    "\n",
    "        # Элементы интерфейса в зависимости от режима\n",
    "        if self.modelForPredictTensorflow is not None:\n",
    "            print('РЕЖИМ РАБОТЫ: классификация нарисованного изображения')\n",
    "            buttonPredict=tk.Button(text=\"Распознать\",command=self.predictFromDraw)\n",
    "            buttonPredict.config(bg='#CCCCFF')\n",
    "            buttonPredict.pack()\n",
    "            self.T = tk.Text(rootWindow, height = 6, width = 30)\n",
    "            self.T.pack()\n",
    "        elif self.modelForPredictHopfield is not None:\n",
    "            print('РЕЖИМ РАБОТЫ: ассоциация сетью Хопфилда')\n",
    "            buttonHopfieldNet=tk.Button(text=\"Получить ответ от сети Хопфилда\",command=self.hopfieldNetFunc)\n",
    "            buttonHopfieldNet.config(bg='#CCCCFF')\n",
    "            buttonHopfieldNet.pack()\n",
    "            hopfielWindow = tk.Toplevel() # второе окно для вывода ответов НС Хопфилда\n",
    "            hopfielWindow.title(\"Вывод сети Хопфилда\")\n",
    "            hopfielWindow.attributes(\"-topmost\",True) # видимость: окно появится на переднем плане, поверх всех других\n",
    "            self.canvasHopfieldOut = tk.Canvas(hopfielWindow, width=self.widthGUI, height=self.heightGUI, bg='black') # объекты обученных НС для получения ответов\n",
    "            self.canvasHopfieldOut.pack()\n",
    "            self.drawGrid(workCanvas = self.canvasHopfieldOut)\n",
    "        else:\n",
    "            print('РЕЖИМ РАБОТЫ: рисование и сохранение изображений')\n",
    "            # Проверка наличия и создание директории для изображений\n",
    "            self.pathFotImgs = pathFotImgs\n",
    "            print('Диретория для сохранения изображений: ', end='')\n",
    "            if not os.path.exists(self.pathFotImgs):\n",
    "                os.mkdir(self.pathFotImgs)\n",
    "                print(f\"Создана {os.path.join(os.getcwd(), self.pathFotImgs)}\")\n",
    "            else:\n",
    "                print(f\"Найдена {os.path.join(os.getcwd(), self.pathFotImgs)}\")\n",
    "\n",
    "            buttonSave=tk.Button(text=\"Сохранить в файл\",command=self.saveToFileFunc)\n",
    "            buttonSave.config(bg='#CCFFCC')\n",
    "            buttonSave.pack()\n",
    "        buttonClear=tk.Button(text=\"Очистить\",command=self.clearFunc)\n",
    "        buttonClear.config(bg='#FFCCCC')\n",
    "        buttonClear.pack()\n",
    "        my_label = tk.Label(rootWindow, text = \"После рисования и обработки\\n нужного кол-ва изображений\\n обязательно закройте это окно\")   #  , font= ('Aerial', 17))\n",
    "        my_label.pack()\n",
    "\n",
    "        #----------------------------\n",
    "        rootWindow.title(\"Область рисования\")\n",
    "        rootWindow.attributes(\"-topmost\",True) # видимость: окно появится на переднем плане, поверх всех других\n",
    "        rootWindow.resizable(False, False)\n",
    "        rootWindow.mainloop()                  # отобразить окно"
   ]
  },
  {
   "cell_type": "markdown",
   "id": "12b6d3a4-8ad1-4ded-bb91-4e5c60ec5f37",
   "metadata": {
    "id": "12b6d3a4-8ad1-4ded-bb91-4e5c60ec5f37"
   },
   "source": [
    "Выполнение следующей команды создаст и отобразит графическое окно.\n",
    "\n",
    " - При нажатии на кнопку \"Сохранить\" содержимое окна будет сохранено в файл-изображение во вложенную папку \"./imgs\".  \n",
    " - Левая кнопка мыши задаёт белый цвет клетки\n",
    " - Правая кнопка мыши задаёт чёрный цвет клетки\n",
    "\n",
    "Эта команда является блокирующей дальнейшее выполнение кода. **Обязательно закройте графическое окно** перед выполнением дальнейших команд."
   ]
  },
  {
   "cell_type": "code",
   "execution_count": null,
   "id": "08615899-7aae-4594-ab13-4faf362904ec",
   "metadata": {
    "id": "08615899-7aae-4594-ab13-4faf362904ec",
    "outputId": "4a2a7c1d-da61-41fc-edd4-4ef79fb76606"
   },
   "outputs": [
    {
     "name": "stdout",
     "output_type": "stream",
     "text": [
      "Размер изображения ШхВ = 10х10 пикс.\n",
      "РЕЖИМ РАБОТЫ: рисование и сохранение изображений\n",
      "Диретория для сохранения изображений: Найдена c:\\Users\\user\\Desktop\\---\\NNaNK.2023.09\\hopfield\\imgsHopfield\n"
     ]
    }
   ],
   "source": [
    "#Создать экземпляр окна и отобразить\n",
    "myWinTK (\n",
    "    imgW=myImgW, ImgH=myImgH,   # размер выходного сохраняемого изображения, в пикселях\n",
    "    pathFotImgs= myPathFotImgs, # путь для сохранения изображений\n",
    ");"
   ]
  },
  {
   "cell_type": "markdown",
   "id": "6ceec0f3-65cb-4b7c-b95b-0b61ff8e3c55",
   "metadata": {
    "id": "6ceec0f3-65cb-4b7c-b95b-0b61ff8e3c55"
   },
   "source": [
    "#### Загрузка файлов-изображений"
   ]
  },
  {
   "cell_type": "markdown",
   "id": "b82b8257-63a3-4597-ab3d-886f8f5b5f4e",
   "metadata": {
    "id": "b82b8257-63a3-4597-ab3d-886f8f5b5f4e"
   },
   "source": [
    "Осмотрим содержимое выбранной папки используя функцию `glob`, которая найдет все пути, попадающие под заданный шаблон."
   ]
  },
  {
   "cell_type": "code",
   "execution_count": null,
   "id": "df35602d-67d5-4c6d-89b2-1a6ad6a80fd5",
   "metadata": {
    "id": "df35602d-67d5-4c6d-89b2-1a6ad6a80fd5",
    "outputId": "50c045f7-b547-4a38-e9f5-fa50b1fc99e2"
   },
   "outputs": [
    {
     "name": "stdout",
     "output_type": "stream",
     "text": [
      "Содержимое папки по шаблону поиска \"imgsHopfield/*.*\"\n",
      "- Файл Расширение:\".PNG\"  Имя: imgsHopfield\\[10,10]img_2023-10-12-21-05-51.png\n",
      "- Файл Расширение:\".PNG\"  Имя: imgsHopfield\\[10,10]img_2023-10-12-21-06-00.png\n",
      "- Файл Расширение:\".PNG\"  Имя: imgsHopfield\\[10,10]img_2023-10-12-21-38-30.png\n",
      "- Файл Расширение:\".PNG\"  Имя: imgsHopfield\\[10,10]img_2023-10-12-21-39-35.png\n",
      "- Файл Расширение:\".PNG\"  Имя: imgsHopfield\\[10,10]img_2023-10-12-21-40-38.png\n",
      "- Файл Расширение:\".PNG\"  Имя: imgsHopfield\\[10,10]img_2023-10-13-00-10-09.png\n",
      "- Файл Расширение:\".PNG\"  Имя: imgsHopfield\\[10,10]img_2023-10-13-00-15-48.png\n",
      "- Файл Расширение:\".PNG\"  Имя: imgsHopfield\\[10,10]img_2023-10-13-00-16-58.png\n",
      "- Файл Расширение:\".PNG\"  Имя: imgsHopfield\\[10,10]img_2023-10-13-00-19-12.png\n",
      "- Файл Расширение:\".PNG\"  Имя: imgsHopfield\\[10,10]img_2023-10-13-00-20-25.png\n",
      "- Файл Расширение:\".PNG\"  Имя: imgsHopfield\\[10,10]img_2023-10-13-00-21-01.png\n",
      "- Файл Расширение:\".PNG\"  Имя: imgsHopfield\\[10,10]img_2023-10-13-00-23-38.png\n",
      "- Файл Расширение:\".PNG\"  Имя: imgsHopfield\\[10,10]img_2023-10-13-00-24-42.png\n"
     ]
    }
   ],
   "source": [
    "filePathPattern = myPathFotImgs+'/*.*'\n",
    "print (f'Содержимое папки по шаблону поиска \"{filePathPattern}\"')\n",
    "fileNameList = glob.glob(myPathFotImgs+'/*.*')\n",
    "\n",
    "for fileName in fileNameList:\n",
    "    name, ext = os.path.splitext(fileName)\n",
    "    print(f'- Файл Расширение:\"{ext.upper()}\"  Имя: {fileName}')"
   ]
  },
  {
   "cell_type": "code",
   "execution_count": null,
   "id": "49babeb8-fabb-49e2-bd13-0f8779c73a70",
   "metadata": {
    "id": "49babeb8-fabb-49e2-bd13-0f8779c73a70"
   },
   "outputs": [],
   "source": []
  },
  {
   "cell_type": "markdown",
   "id": "1b690854-a18e-49eb-9f1b-9b7c55db25df",
   "metadata": {
    "id": "1b690854-a18e-49eb-9f1b-9b7c55db25df"
   },
   "source": [
    "Используем функцию `Image.open` библиотеки PIL для чтения файлов-изображений с диска.\n",
    "Объединим отдельные изображения в обучающий набор `targetList`."
   ]
  },
  {
   "cell_type": "code",
   "execution_count": null,
   "id": "94a131d6-2a71-4d77-af8a-d614ebeb1006",
   "metadata": {
    "id": "94a131d6-2a71-4d77-af8a-d614ebeb1006",
    "outputId": "23f0af5d-7cd6-4a2f-83e5-b4e5a6bc739c",
    "scrolled": true
   },
   "outputs": [
    {
     "name": "stdout",
     "output_type": "stream",
     "text": [
      "- Файл. Расширение:\".PNG\"  Имя: imgsHopfield\\[10,10]img_2023-10-12-21-05-51.png\n",
      "Размер изоб.: (10, 10)\n"
     ]
    },
    {
     "data": {
      "image/png": "[encoded data removed]",
      "text/plain": [
       "<Figure size 100x100 with 1 Axes>"
      ]
     },
     "metadata": {},
     "output_type": "display_data"
    },
    {
     "name": "stdout",
     "output_type": "stream",
     "text": [
      "- Файл. Расширение:\".PNG\"  Имя: imgsHopfield\\[10,10]img_2023-10-12-21-06-00.png\n",
      "Размер изоб.: (10, 10)\n"
     ]
    },
    {
     "data": {
      "image/png": "[encoded data removed]",
      "text/plain": [
       "<Figure size 100x100 with 1 Axes>"
      ]
     },
     "metadata": {},
     "output_type": "display_data"
    },
    {
     "name": "stdout",
     "output_type": "stream",
     "text": [
      "- Файл. Расширение:\".PNG\"  Имя: imgsHopfield\\[10,10]img_2023-10-12-21-38-30.png\n",
      "Размер изоб.: (10, 10)\n"
     ]
    },
    {
     "data": {
      "image/png": "[encoded data removed]",
      "text/plain": [
       "<Figure size 100x100 with 1 Axes>"
      ]
     },
     "metadata": {},
     "output_type": "display_data"
    },
    {
     "name": "stdout",
     "output_type": "stream",
     "text": [
      "- Файл. Расширение:\".PNG\"  Имя: imgsHopfield\\[10,10]img_2023-10-12-21-39-35.png\n",
      "Размер изоб.: (10, 10)\n"
     ]
    },
    {
     "data": {
      "image/png": "[encoded data removed]",
      "text/plain": [
       "<Figure size 100x100 with 1 Axes>"
      ]
     },
     "metadata": {},
     "output_type": "display_data"
    },
    {
     "name": "stdout",
     "output_type": "stream",
     "text": [
      "- Файл. Расширение:\".PNG\"  Имя: imgsHopfield\\[10,10]img_2023-10-12-21-40-38.png\n",
      "Размер изоб.: (10, 10)\n"
     ]
    },
    {
     "data": {
      "image/png": "[encoded data removed]",
      "text/plain": [
       "<Figure size 100x100 with 1 Axes>"
      ]
     },
     "metadata": {},
     "output_type": "display_data"
    },
    {
     "name": "stdout",
     "output_type": "stream",
     "text": [
      "- Файл. Расширение:\".PNG\"  Имя: imgsHopfield\\[10,10]img_2023-10-13-00-10-09.png\n",
      "Размер изоб.: (10, 10)\n"
     ]
    },
    {
     "data": {
      "image/png": "[encoded data removed]",
      "text/plain": [
       "<Figure size 100x100 with 1 Axes>"
      ]
     },
     "metadata": {},
     "output_type": "display_data"
    },
    {
     "name": "stdout",
     "output_type": "stream",
     "text": [
      "- Файл. Расширение:\".PNG\"  Имя: imgsHopfield\\[10,10]img_2023-10-13-00-15-48.png\n",
      "Размер изоб.: (10, 10)\n"
     ]
    },
    {
     "data": {
      "image/png": "[encoded data removed]",
      "text/plain": [
       "<Figure size 100x100 with 1 Axes>"
      ]
     },
     "metadata": {},
     "output_type": "display_data"
    },
    {
     "name": "stdout",
     "output_type": "stream",
     "text": [
      "- Файл. Расширение:\".PNG\"  Имя: imgsHopfield\\[10,10]img_2023-10-13-00-16-58.png\n",
      "Размер изоб.: (10, 10)\n"
     ]
    },
    {
     "data": {
      "image/png": "[encoded data removed]",
      "text/plain": [
       "<Figure size 100x100 with 1 Axes>"
      ]
     },
     "metadata": {},
     "output_type": "display_data"
    },
    {
     "name": "stdout",
     "output_type": "stream",
     "text": [
      "- Файл. Расширение:\".PNG\"  Имя: imgsHopfield\\[10,10]img_2023-10-13-00-19-12.png\n",
      "Размер изоб.: (10, 10)\n"
     ]
    },
    {
     "data": {
      "image/png": "[encoded data removed]",
      "text/plain": [
       "<Figure size 100x100 with 1 Axes>"
      ]
     },
     "metadata": {},
     "output_type": "display_data"
    },
    {
     "name": "stdout",
     "output_type": "stream",
     "text": [
      "- Файл. Расширение:\".PNG\"  Имя: imgsHopfield\\[10,10]img_2023-10-13-00-20-25.png\n",
      "Размер изоб.: (10, 10)\n"
     ]
    },
    {
     "data": {
      "image/png": "[encoded data removed]",
      "text/plain": [
       "<Figure size 100x100 with 1 Axes>"
      ]
     },
     "metadata": {},
     "output_type": "display_data"
    },
    {
     "name": "stdout",
     "output_type": "stream",
     "text": [
      "- Файл. Расширение:\".PNG\"  Имя: imgsHopfield\\[10,10]img_2023-10-13-00-21-01.png\n",
      "Размер изоб.: (10, 10)\n"
     ]
    },
    {
     "data": {
      "image/png": "[encoded data removed]",
      "text/plain": [
       "<Figure size 100x100 with 1 Axes>"
      ]
     },
     "metadata": {},
     "output_type": "display_data"
    },
    {
     "name": "stdout",
     "output_type": "stream",
     "text": [
      "- Файл. Расширение:\".PNG\"  Имя: imgsHopfield\\[10,10]img_2023-10-13-00-23-38.png\n",
      "Размер изоб.: (10, 10)\n"
     ]
    },
    {
     "data": {
      "image/png": "[encoded data removed]",
      "text/plain": [
       "<Figure size 100x100 with 1 Axes>"
      ]
     },
     "metadata": {},
     "output_type": "display_data"
    },
    {
     "name": "stdout",
     "output_type": "stream",
     "text": [
      "- Файл. Расширение:\".PNG\"  Имя: imgsHopfield\\[10,10]img_2023-10-13-00-24-42.png\n",
      "Размер изоб.: (10, 10)\n"
     ]
    },
    {
     "data": {
      "image/png": "[encoded data removed]",
      "text/plain": [
       "<Figure size 100x100 with 1 Axes>"
      ]
     },
     "metadata": {},
     "output_type": "display_data"
    }
   ],
   "source": [
    "targetList = list() # создать пустой список\n",
    "\n",
    "for fileName in fileNameList:\n",
    "    name, ext = os.path.splitext(fileName)\n",
    "    print(f'- Файл. Расширение:\"{ext.upper()}\"  Имя: {fileName}')\n",
    "\n",
    "    if ext.upper() in ['.BMP', '.PNG', '.JPG' ]: # Проверить тип файла\n",
    "        im = Image.open(fileName)  # Загрузить файл\n",
    "        im = im.convert(mode='1')  # Конвертировать в черно/белый, иначе останется 3-цветовых канада\n",
    "        imNumpy = np.asfarray(im)  # Преобразовать в массив значений\n",
    "        print('Размер изоб.:', imNumpy.shape)\n",
    "        targetList.append(imNumpy) # Добавить изображение в список\n",
    "\n",
    "        #print(imNumpy)\n",
    "        plt.figure(figsize=(1,1))  # Создать полотно для рисования, figsize-размер в дюймах\n",
    "        plt.imshow(imNumpy)        # Отобразить массив как изображение\n",
    "        plt.show()"
   ]
  },
  {
   "cell_type": "code",
   "execution_count": null,
   "id": "26721a01-e6f0-45d7-849d-5d1a58bbcec1",
   "metadata": {
    "id": "26721a01-e6f0-45d7-849d-5d1a58bbcec1"
   },
   "outputs": [],
   "source": []
  },
  {
   "cell_type": "markdown",
   "id": "e1a601fc-096c-4b4b-9070-2264b17cd071",
   "metadata": {
    "id": "e1a601fc-096c-4b4b-9070-2264b17cd071"
   },
   "source": [
    "- - -"
   ]
  },
  {
   "cell_type": "markdown",
   "id": "9bd09ac3-f595-40df-8075-61421ae5b47a",
   "metadata": {
    "id": "9bd09ac3-f595-40df-8075-61421ae5b47a"
   },
   "source": [
    "## Обработка полученого списка изображений"
   ]
  },
  {
   "cell_type": "markdown",
   "id": "36a4fa8f-b094-400f-98fc-a50633b5a754",
   "metadata": {
    "id": "36a4fa8f-b094-400f-98fc-a50633b5a754"
   },
   "source": [
    "В результате предыдущих шагов `targetList` список (`list` python) должен содержать несколько одиночных изображений."
   ]
  },
  {
   "cell_type": "code",
   "execution_count": 76,
   "id": "cf1f810e-d1d4-44c6-ba0e-3bf2630cbe52",
   "metadata": {
    "id": "cf1f810e-d1d4-44c6-ba0e-3bf2630cbe52",
    "outputId": "e24a8de3-9968-4160-e51a-490ed2438f45"
   },
   "outputs": [
    {
     "name": "stdout",
     "output_type": "stream",
     "text": [
      "targetList. Тип данных  <class 'list'>\n",
      "targetList. Кол-во элементов  3\n"
     ]
    }
   ],
   "source": [
    "print('targetList. Тип данных ', type(targetList))\n",
    "print('targetList. Кол-во элементов ', len(targetList))\n",
    "#print(targetList) # осмотр содержимого"
   ]
  },
  {
   "cell_type": "markdown",
   "id": "8a671ebb-741d-4104-b13e-172e4ea67d57",
   "metadata": {
    "id": "8a671ebb-741d-4104-b13e-172e4ea67d57"
   },
   "source": [
    "Создадим `targetNumpy` - массив Numpy с имеющимися изображениями. Для работы НС Хопфилда необходимо заменить все нулевые значения на -1.0, т.е. обеспечить биполярные значения +1.0, либо -1.0."
   ]
  },
  {
   "cell_type": "code",
   "execution_count": 77,
   "id": "e911ff88-8b46-4321-b007-e334aa6f368a",
   "metadata": {
    "colab": {
     "base_uri": "https://localhost:8080/"
    },
    "id": "e911ff88-8b46-4321-b007-e334aa6f368a",
    "outputId": "33e23c95-849d-4971-dca9-c119b5ced71e"
   },
   "outputs": [
    {
     "name": "stdout",
     "output_type": "stream",
     "text": [
      "targetNumpy. Тип данных  <class 'numpy.ndarray'>\n",
      "targetNumpy shape =  (3, 100)\n"
     ]
    }
   ],
   "source": [
    "targetNumpy = np.asfarray(targetList)  # Создать массив Numpy, тип данных - вещественное число\n",
    "print('targetNumpy. Тип данных ', type(targetNumpy))\n",
    "print('targetNumpy shape = ', targetNumpy.shape)\n",
    "\n",
    "targetNumpy[targetNumpy == 0] = -1.0   # Замена всех ячеек с \"0\" на \"-1\""
   ]
  },
  {
   "cell_type": "markdown",
   "id": "kQYQa9-UMvvB",
   "metadata": {
    "id": "kQYQa9-UMvvB"
   },
   "source": [
    "Осмотрим содержимое массива. Обратите внимание на размерность изображений."
   ]
  },
  {
   "cell_type": "code",
   "execution_count": 78,
   "id": "SDV01phLMu8J",
   "metadata": {
    "colab": {
     "base_uri": "https://localhost:8080/"
    },
    "id": "SDV01phLMu8J",
    "outputId": "16f6f9ae-0de5-4884-9383-1987724d6d00",
    "scrolled": true
   },
   "outputs": [
    {
     "data": {
      "text/plain": [
       "array([[-1., -1., -1., -1., -1., -1., -1., -1., -1., -1., -1., -1., -1.,\n",
       "         1.,  1.,  1.,  1., -1., -1., -1., -1., -1.,  1., -1., -1., -1.,\n",
       "        -1.,  1., -1., -1., -1.,  1., -1., -1., -1., -1., -1., -1.,  1.,\n",
       "        -1., -1.,  1., -1., -1., -1., -1., -1., -1.,  1., -1., -1.,  1.,\n",
       "        -1., -1., -1., -1., -1., -1.,  1., -1., -1.,  1., -1., -1., -1.,\n",
       "        -1., -1., -1.,  1., -1., -1., -1.,  1., -1., -1., -1., -1.,  1.,\n",
       "        -1., -1., -1., -1., -1.,  1.,  1.,  1.,  1., -1., -1., -1., -1.,\n",
       "        -1., -1., -1., -1., -1., -1., -1., -1., -1.],\n",
       "       [-1., -1., -1., -1., -1., -1., -1., -1., -1., -1., -1., -1., -1.,\n",
       "        -1.,  1.,  1., -1., -1., -1., -1., -1., -1., -1., -1.,  1.,  1.,\n",
       "        -1., -1., -1., -1., -1., -1., -1., -1.,  1.,  1., -1., -1., -1.,\n",
       "        -1., -1.,  1.,  1.,  1.,  1.,  1.,  1.,  1.,  1., -1., -1.,  1.,\n",
       "         1.,  1.,  1.,  1.,  1.,  1.,  1., -1., -1., -1., -1., -1.,  1.,\n",
       "         1., -1., -1., -1., -1., -1., -1., -1., -1.,  1.,  1., -1., -1.,\n",
       "        -1., -1., -1., -1., -1., -1.,  1.,  1., -1., -1., -1., -1., -1.,\n",
       "        -1., -1., -1., -1., -1., -1., -1., -1., -1.],\n",
       "       [-1., -1., -1., -1., -1., -1., -1., -1., -1., -1., -1., -1., -1.,\n",
       "        -1., -1., -1., -1., -1., -1., -1., -1., -1., -1., -1.,  1.,  1.,\n",
       "        -1., -1., -1., -1., -1., -1., -1.,  1., -1., -1.,  1., -1., -1.,\n",
       "        -1., -1., -1., -1.,  1., -1., -1.,  1., -1., -1., -1., -1., -1.,\n",
       "         1., -1., -1., -1., -1.,  1., -1., -1., -1., -1.,  1., -1., -1.,\n",
       "        -1., -1.,  1., -1., -1., -1.,  1., -1., -1., -1., -1., -1., -1.,\n",
       "         1., -1., -1.,  1.,  1.,  1.,  1.,  1.,  1.,  1.,  1., -1., -1.,\n",
       "        -1., -1., -1., -1., -1., -1., -1., -1., -1.]])"
      ]
     },
     "execution_count": 78,
     "metadata": {},
     "output_type": "execute_result"
    }
   ],
   "source": [
    "targetNumpy # осмотр содержимого"
   ]
  },
  {
   "cell_type": "markdown",
   "id": "38d34b19-fb96-4ddf-a15b-ba2125d168f6",
   "metadata": {
    "id": "38d34b19-fb96-4ddf-a15b-ba2125d168f6"
   },
   "source": [
    "В зависимости от предыдущих шагов, может потребоваться переупакавать массивы командой `.reshape(кол-во изображений, высота, ширина)`."
   ]
  },
  {
   "cell_type": "code",
   "execution_count": 79,
   "id": "cc4d70d3-56e8-4ebb-b8f8-18050ca8bb05",
   "metadata": {
    "colab": {
     "base_uri": "https://localhost:8080/"
    },
    "id": "cc4d70d3-56e8-4ebb-b8f8-18050ca8bb05",
    "outputId": "93e47ae8-87f1-4aa7-a961-4bcc62f44611",
    "scrolled": true
   },
   "outputs": [
    {
     "name": "stdout",
     "output_type": "stream",
     "text": [
      "targetNumpy shape =  (3, 10, 10)\n"
     ]
    },
    {
     "data": {
      "text/plain": [
       "array([[[-1., -1., -1., -1., -1., -1., -1., -1., -1., -1.],\n",
       "        [-1., -1., -1.,  1.,  1.,  1.,  1., -1., -1., -1.],\n",
       "        [-1., -1.,  1., -1., -1., -1., -1.,  1., -1., -1.],\n",
       "        [-1.,  1., -1., -1., -1., -1., -1., -1.,  1., -1.],\n",
       "        [-1.,  1., -1., -1., -1., -1., -1., -1.,  1., -1.],\n",
       "        [-1.,  1., -1., -1., -1., -1., -1., -1.,  1., -1.],\n",
       "        [-1.,  1., -1., -1., -1., -1., -1., -1.,  1., -1.],\n",
       "        [-1., -1.,  1., -1., -1., -1., -1.,  1., -1., -1.],\n",
       "        [-1., -1., -1.,  1.,  1.,  1.,  1., -1., -1., -1.],\n",
       "        [-1., -1., -1., -1., -1., -1., -1., -1., -1., -1.]],\n",
       "\n",
       "       [[-1., -1., -1., -1., -1., -1., -1., -1., -1., -1.],\n",
       "        [-1., -1., -1., -1.,  1.,  1., -1., -1., -1., -1.],\n",
       "        [-1., -1., -1., -1.,  1.,  1., -1., -1., -1., -1.],\n",
       "        [-1., -1., -1., -1.,  1.,  1., -1., -1., -1., -1.],\n",
       "        [-1.,  1.,  1.,  1.,  1.,  1.,  1.,  1.,  1., -1.],\n",
       "        [-1.,  1.,  1.,  1.,  1.,  1.,  1.,  1.,  1., -1.],\n",
       "        [-1., -1., -1., -1.,  1.,  1., -1., -1., -1., -1.],\n",
       "        [-1., -1., -1., -1.,  1.,  1., -1., -1., -1., -1.],\n",
       "        [-1., -1., -1., -1.,  1.,  1., -1., -1., -1., -1.],\n",
       "        [-1., -1., -1., -1., -1., -1., -1., -1., -1., -1.]],\n",
       "\n",
       "       [[-1., -1., -1., -1., -1., -1., -1., -1., -1., -1.],\n",
       "        [-1., -1., -1., -1., -1., -1., -1., -1., -1., -1.],\n",
       "        [-1., -1., -1., -1.,  1.,  1., -1., -1., -1., -1.],\n",
       "        [-1., -1., -1.,  1., -1., -1.,  1., -1., -1., -1.],\n",
       "        [-1., -1., -1.,  1., -1., -1.,  1., -1., -1., -1.],\n",
       "        [-1., -1.,  1., -1., -1., -1., -1.,  1., -1., -1.],\n",
       "        [-1., -1.,  1., -1., -1., -1., -1.,  1., -1., -1.],\n",
       "        [-1.,  1., -1., -1., -1., -1., -1., -1.,  1., -1.],\n",
       "        [-1.,  1.,  1.,  1.,  1.,  1.,  1.,  1.,  1., -1.],\n",
       "        [-1., -1., -1., -1., -1., -1., -1., -1., -1., -1.]]])"
      ]
     },
     "execution_count": 79,
     "metadata": {},
     "output_type": "execute_result"
    }
   ],
   "source": [
    "targetNumpy = targetNumpy.reshape(-1, 10, 10) # \"-1\" - автоподбор кол-ва изображений, \"10\" - кол-во строк, \"10\" - кол-во столбов\n",
    "print('targetNumpy shape = ', targetNumpy.shape)\n",
    "targetNumpy # осмотр содержимого"
   ]
  },
  {
   "cell_type": "markdown",
   "id": "461ee4ae-c50b-474b-b30c-1d6b043eca5e",
   "metadata": {
    "id": "461ee4ae-c50b-474b-b30c-1d6b043eca5e"
   },
   "source": [
    "Осмотрим каждый элемент массива `targetNumpy`. Используем функцию `matplotlib.pyplot.imshow`, которая отображает полученый набор значений в графическом виде."
   ]
  },
  {
   "cell_type": "code",
   "execution_count": 80,
   "id": "b1846a37-3e39-44d9-b273-cae35b9cb809",
   "metadata": {
    "colab": {
     "base_uri": "https://localhost:8080/",
     "height": 305
    },
    "id": "b1846a37-3e39-44d9-b273-cae35b9cb809",
    "outputId": "09b6c236-3395-4c43-d51b-a40e9204b8bc",
    "scrolled": true
   },
   "outputs": [
    {
     "name": "stdout",
     "output_type": "stream",
     "text": [
      "img shape =  (10, 10)\n"
     ]
    },
    {
     "data": {
      "image/png": "[encoded data removed]",
      "text/plain": [
       "<Figure size 100x100 with 2 Axes>"
      ]
     },
     "metadata": {},
     "output_type": "display_data"
    },
    {
     "name": "stdout",
     "output_type": "stream",
     "text": [
      "img shape =  (10, 10)\n"
     ]
    },
    {
     "data": {
      "image/png": "[encoded data removed]",
      "text/plain": [
       "<Figure size 100x100 with 2 Axes>"
      ]
     },
     "metadata": {},
     "output_type": "display_data"
    },
    {
     "name": "stdout",
     "output_type": "stream",
     "text": [
      "img shape =  (10, 10)\n"
     ]
    },
    {
     "data": {
      "image/png": "[encoded data removed]",
      "text/plain": [
       "<Figure size 100x100 with 2 Axes>"
      ]
     },
     "metadata": {},
     "output_type": "display_data"
    }
   ],
   "source": [
    "for img in targetNumpy:\n",
    "    print('img shape = ',img.shape)\n",
    "    plt.figure(figsize=(1,1)) # создать полотно для рисования, figsize-размер в дюймах\n",
    "    plt.imshow(               # отобразить массив как изображение\n",
    "       img,         # данные\n",
    "       #cmap='gray' # название цветовой шкалы\n",
    "    )\n",
    "    plt.colorbar()            # отобразить цветовую шкалу\n",
    "    #plt.axis(False)          # отключить подписи осей\n",
    "    plt.show()                # отрисовать содержимое полотна"
   ]
  },
  {
   "cell_type": "code",
   "execution_count": null,
   "id": "923c07f5-f1ae-44f9-814c-2d76de295a3b",
   "metadata": {
    "id": "923c07f5-f1ae-44f9-814c-2d76de295a3b"
   },
   "outputs": [],
   "source": []
  },
  {
   "cell_type": "markdown",
   "id": "766c409b-0197-4973-8538-a2aaa1fb9e76",
   "metadata": {
    "id": "766c409b-0197-4973-8538-a2aaa1fb9e76"
   },
   "source": [
    "# Нейронная сеть Хопфилда"
   ]
  },
  {
   "cell_type": "markdown",
   "id": "13062192-8221-4b05-bc40-27e21aa2f02d",
   "metadata": {
    "id": "13062192-8221-4b05-bc40-27e21aa2f02d"
   },
   "source": [
    "## Выбор состава обучающей части"
   ]
  },
  {
   "cell_type": "markdown",
   "id": "1360d440-cbfc-4762-a7cf-7a8062246f7e",
   "metadata": {
    "id": "1360d440-cbfc-4762-a7cf-7a8062246f7e"
   },
   "source": [
    "Перед построением НС еще раз проверим размерность полученных образцов."
   ]
  },
  {
   "cell_type": "code",
   "execution_count": 36,
   "id": "ef5c838b-937f-4ee8-ae1d-11bd9211ae4d",
   "metadata": {
    "colab": {
     "base_uri": "https://localhost:8080/"
    },
    "id": "ef5c838b-937f-4ee8-ae1d-11bd9211ae4d",
    "outputId": "1c119ed6-20fb-49e6-c865-1ced8f401cbe"
   },
   "outputs": [
    {
     "name": "stdout",
     "output_type": "stream",
     "text": [
      "targetNumpy shape =  (3, 10, 10)\n",
      "  кол-во изображений =  3\n",
      "  размерность каждого изображения =  (10, 10)\n"
     ]
    }
   ],
   "source": [
    "print('targetNumpy shape = ', targetNumpy.shape)\n",
    "print('  кол-во изображений = ', targetNumpy.shape[0])\n",
    "print('  размерность каждого изображения = ', targetNumpy.shape[1:])"
   ]
  },
  {
   "cell_type": "markdown",
   "id": "c90a0aa2-e2e9-4be5-a6b8-11c5385554d7",
   "metadata": {
    "id": "c90a0aa2-e2e9-4be5-a6b8-11c5385554d7"
   },
   "source": [
    "Выберем из исходных изображений некоторые по их порядковым номерам (индексам), и сформируем новый комплект `choosenTargetNumpy` - набор для очередного обучения НС. Для выбора подмассивов из исходного используем функцию `numpy.take`."
   ]
  },
  {
   "cell_type": "code",
   "execution_count": 103,
   "id": "e5597781-0eeb-4332-ba64-08766ba321f1",
   "metadata": {
    "id": "e5597781-0eeb-4332-ba64-08766ba321f1",
    "outputId": "9634ba5e-2c3f-4c1e-fd2c-45bb844034c7"
   },
   "outputs": [
    {
     "name": "stdout",
     "output_type": "stream",
     "text": [
      "==Осмотр полученого комплекта==\n",
      "img shape =  (10, 10)\n"
     ]
    },
    {
     "data": {
      "image/png": "[encoded data removed]",
      "text/plain": [
       "<Figure size 100x100 with 2 Axes>"
      ]
     },
     "metadata": {},
     "output_type": "display_data"
    },
    {
     "name": "stdout",
     "output_type": "stream",
     "text": [
      "img shape =  (10, 10)\n"
     ]
    },
    {
     "data": {
      "image/png": "[encoded data removed]",
      "text/plain": [
       "<Figure size 100x100 with 2 Axes>"
      ]
     },
     "metadata": {},
     "output_type": "display_data"
    }
   ],
   "source": [
    "selectedIndexes = [1, 2] # индексы (порядковые номера) выбранных\n",
    "\n",
    "selectedTargetNumpy = np.take( # выбрать указанные подмассивы по индексам\n",
    "    a=targetNumpy,           # общий массив\n",
    "    indices=selectedIndexes, # индексы (порядковые номера) выбранных\n",
    "    axis=0                   # режим навигации в многомерном массиве\n",
    ")\n",
    "\n",
    "print('==Осмотр полученого комплекта==')\n",
    "for img in selectedTargetNumpy:\n",
    "    print('img shape = ',img.shape)\n",
    "    plt.figure(figsize=(1,1)) # создать полотно для рисования, figsize-размер в дюймах\n",
    "    plt.imshow(               # отобразить массив как изображение\n",
    "       img,         # данные\n",
    "       #cmap='gray' # название цветовой шкалы\n",
    "    )\n",
    "    plt.colorbar()            # отобразить цветовую шкалу\n",
    "    plt.axis(False)          # отключить подписи осей\n",
    "    plt.show()                # отрисовать содержимое полотна"
   ]
  },
  {
   "cell_type": "markdown",
   "id": "af7bc9cc-a56f-4355-bf00-97224ca8ec71",
   "metadata": {
    "id": "af7bc9cc-a56f-4355-bf00-97224ca8ec71"
   },
   "source": [
    "Значения в массиве `selectedTargetNumpy` и `targetNumpy` хранятся в естественной для изображений размерности, эта же размерность позволяет напрямую передавать изображения в функции отображения на экран графических библиотек.\n",
    "\n",
    "Нейросеть Хопфилда ожидает в качестве обучающих данных массив особой размерности: состоящий из одного и более **одномерных** векторов.\n",
    "Следовательно массив `targetNumpy` размерностью (N, H, W) из N изображений размером H x W, должен быть преобразован к (N, H*W).\n",
    "\n",
    "Для преобразования к требуемой размерности используем функцию `.reshape(кол-во изображений, -1)`, где второй параметр позволит развернуть каждое изображение в одномерный вектор. Проверим ёё работу."
   ]
  },
  {
   "cell_type": "code",
   "execution_count": 104,
   "id": "16814e8b-9db3-4e14-92f7-89276f52d77e",
   "metadata": {
    "colab": {
     "base_uri": "https://localhost:8080/"
    },
    "id": "16814e8b-9db3-4e14-92f7-89276f52d77e",
    "outputId": "c254d9b9-5579-4e98-80a4-38adbb17ad26"
   },
   "outputs": [
    {
     "name": "stdout",
     "output_type": "stream",
     "text": [
      "shape =  (2, 100)\n",
      "  кол-во изображений =  2\n",
      "  размерность каждого изображения =  (100,)\n",
      "Содержимое массива\n"
     ]
    }
   ],
   "source": [
    "countOfImgs = selectedTargetNumpy.shape[0] # кол-во изображений\n",
    "print('shape = ',                        selectedTargetNumpy.reshape(countOfImgs,-1).shape)\n",
    "print('  кол-во изображений = ',         selectedTargetNumpy.reshape(countOfImgs,-1).shape[0])\n",
    "print('  размерность каждого изображения = ', selectedTargetNumpy.reshape(countOfImgs,-1).shape[1:])\n",
    "\n",
    "print('Содержимое массива')\n",
    "#choosenTargetNump.reshape( # ф. изменения размерности (кол-во образцов, -1)\n",
    "#    countOfImgs,          # кол-во изображений\n",
    "#    -1                    # новый размер\n",
    "#)"
   ]
  },
  {
   "cell_type": "markdown",
   "id": "6fd5a753-da9a-4fa0-978c-7ef0e973e3aa",
   "metadata": {
    "id": "6fd5a753-da9a-4fa0-978c-7ef0e973e3aa"
   },
   "source": [
    "## Создадим и обучим НС Хопфилда на выбранных образцах"
   ]
  },
  {
   "cell_type": "markdown",
   "id": "a80c335f-4ccc-423f-8331-b9e9583e06b7",
   "metadata": {
    "id": "a80c335f-4ccc-423f-8331-b9e9583e06b7"
   },
   "source": [
    "Для создания НС Хопфилда воспользуемся пакетом neurolab и конструктором\n",
    "\n",
    "`neurolab.net.newhop(target, transf=None, max_init=10, delta=0)`, со следующими параметрами\n",
    "\n",
    "    - target:   Обучающий массив из одного и более образцов - одномерных векторов (N, h*w)\n",
    "    - transf:   Функция активации\n",
    "    - max_init: Макс. рекуррентных итераций\n",
    "    - delta: Минимальна разность между 2 выходами для остановки цикла (по умолч 0.0)\n",
    "\n",
    "В данная реализации НС обучение происходи в момент создания и объект не содержит отдельной функции дополнительного обучения. Содержит единственный полносвязный слой"
   ]
  },
  {
   "cell_type": "code",
   "execution_count": 105,
   "id": "fc28ad0b-7ac4-4e8e-867e-19a6009aff97",
   "metadata": {
    "id": "fc28ad0b-7ac4-4e8e-867e-19a6009aff97"
   },
   "outputs": [],
   "source": [
    "# Создать и обучить НС\n",
    "net = nl.net.newhop(\n",
    "    target   = selectedTargetNumpy.reshape(countOfImgs, -1),  # Обучающие данные\n",
    "    transf   = nl.trans.HardLims(),  # Функция активации nl.trans.TanSig(), nl.trans.HardLims()\n",
    "    max_init = 10,                 # Макс. рекуррентных итераций\n",
    "    delta    = 0.0\n",
    ")"
   ]
  },
  {
   "cell_type": "code",
   "execution_count": null,
   "id": "ac25df66-d806-42db-982f-82ae37e577fa",
   "metadata": {
    "id": "ac25df66-d806-42db-982f-82ae37e577fa"
   },
   "outputs": [],
   "source": []
  },
  {
   "cell_type": "markdown",
   "id": "9514c0b5-666d-48a8-99fe-7e16d5b59515",
   "metadata": {
    "id": "9514c0b5-666d-48a8-99fe-7e16d5b59515"
   },
   "source": [
    "## Осмотр карты весовых коэфф."
   ]
  },
  {
   "cell_type": "markdown",
   "id": "e6cc113f-fb78-4297-9c9c-37152edd5a19",
   "metadata": {
    "id": "e6cc113f-fb78-4297-9c9c-37152edd5a19"
   },
   "source": [
    "Получим общее кол-во слоёв НС."
   ]
  },
  {
   "cell_type": "code",
   "execution_count": 106,
   "id": "734b9226-02c8-426e-919b-90c25bfcf5de",
   "metadata": {
    "colab": {
     "base_uri": "https://localhost:8080/"
    },
    "id": "734b9226-02c8-426e-919b-90c25bfcf5de",
    "outputId": "ad4b8a99-4657-4869-a496-a182aafac5de"
   },
   "outputs": [
    {
     "name": "stdout",
     "output_type": "stream",
     "text": [
      "Кол-во слоёв нейросети Хопфилда =  1\n"
     ]
    }
   ],
   "source": [
    "print('Кол-во слоёв нейросети Хопфилда = ', len (net.layers))"
   ]
  },
  {
   "cell_type": "markdown",
   "id": "70cffc97-9a05-4429-976b-d14f5d05951f",
   "metadata": {
    "id": "70cffc97-9a05-4429-976b-d14f5d05951f"
   },
   "source": [
    "Весовые коэфф. слоя хранятся в структуре словарь(хэш-таблица) и доступны по ключам `w` и `b`."
   ]
  },
  {
   "cell_type": "code",
   "execution_count": 107,
   "id": "4806f814-1857-4f55-a828-8c563968ee8e",
   "metadata": {
    "id": "4806f814-1857-4f55-a828-8c563968ee8e",
    "outputId": "50d832fb-fc2e-4fca-e0bc-05cf55f93321"
   },
   "outputs": [
    {
     "data": {
      "text/plain": [
       "dict_keys(['w', 'b'])"
      ]
     },
     "execution_count": 107,
     "metadata": {},
     "output_type": "execute_result"
    }
   ],
   "source": [
    "net.layers[0].np.keys()"
   ]
  },
  {
   "cell_type": "markdown",
   "id": "8b70b5af-1037-4daf-8428-3a8ca6fb29c9",
   "metadata": {
    "id": "8b70b5af-1037-4daf-8428-3a8ca6fb29c9"
   },
   "source": [
    "Коэфф. НС представлены в виде матрицы с размером (`H*W` x `H*W`), где H*W - кол-во входных параметров, и отображает веса полносвязной структуры."
   ]
  },
  {
   "cell_type": "code",
   "execution_count": 108,
   "id": "6010e1a4-79c9-4b84-b097-26925dec7b77",
   "metadata": {
    "colab": {
     "base_uri": "https://localhost:8080/"
    },
    "id": "6010e1a4-79c9-4b84-b097-26925dec7b77",
    "outputId": "42c280ca-ec65-4a93-97ba-895b9a1ac4e4"
   },
   "outputs": [
    {
     "name": "stdout",
     "output_type": "stream",
     "text": [
      "Размер матрицы весовых коэфф. =  (100, 100)\n",
      "[[0.   0.02 0.02 ... 0.02 0.02 0.02]\n",
      " [0.02 0.   0.02 ... 0.02 0.02 0.02]\n",
      " [0.02 0.02 0.   ... 0.02 0.02 0.02]\n",
      " ...\n",
      " [0.02 0.02 0.02 ... 0.   0.02 0.02]\n",
      " [0.02 0.02 0.02 ... 0.02 0.   0.02]\n",
      " [0.02 0.02 0.02 ... 0.02 0.02 0.  ]]\n"
     ]
    }
   ],
   "source": [
    "print('Размер матрицы весовых коэфф. = ', net.layers[0].np['w'].shape)\n",
    "print(\n",
    "    np.round ( # применить округление значений\n",
    "        net.layers[0].np['w'], decimals=2) )"
   ]
  },
  {
   "cell_type": "markdown",
   "id": "69c7954b-3d0b-402f-97fe-c3ea444e5c9b",
   "metadata": {
    "id": "69c7954b-3d0b-402f-97fe-c3ea444e5c9b"
   },
   "source": [
    "Для удобства восприятия отобразим матрицу весов в виде тепловой карты."
   ]
  },
  {
   "cell_type": "code",
   "execution_count": 109,
   "id": "d8711863-0e8b-4606-8ea2-099216cbbe6f",
   "metadata": {
    "colab": {
     "base_uri": "https://localhost:8080/",
     "height": 269
    },
    "id": "d8711863-0e8b-4606-8ea2-099216cbbe6f",
    "outputId": "fbc34351-9b23-4652-bb5c-b52d909a51e1"
   },
   "outputs": [
    {
     "data": {
      "image/png": "[encoded data removed]",
      "text/plain": [
       "<Figure size 300x300 with 2 Axes>"
      ]
     },
     "metadata": {},
     "output_type": "display_data"
    }
   ],
   "source": [
    "plt.figure(figsize=(3,3))          # создать полотно для рисования, figsize-размер в дюймах\n",
    "plt.imshow(\n",
    "    net.layers[0].np['w'],  # данные\n",
    "    #cmap='gray', # название цветовой шкалы\n",
    "    #vmin=-0.1,   # мин.  значение цветовой шкалы\n",
    "    #vmax=0.1,    # макс. значение цветовой шкалы\n",
    ")\n",
    "plt.colorbar()            # отобразить цветовую шкалу\n",
    "plt.show()                # отрисовать содержимое полотна"
   ]
  },
  {
   "cell_type": "code",
   "execution_count": null,
   "id": "1ef313d8-f958-40ed-9a02-040926b3bcf8",
   "metadata": {
    "id": "1ef313d8-f958-40ed-9a02-040926b3bcf8"
   },
   "outputs": [],
   "source": []
  },
  {
   "cell_type": "markdown",
   "id": "31a9755c-f7ec-47a0-824e-1af9104ce6f5",
   "metadata": {
    "id": "31a9755c-f7ec-47a0-824e-1af9104ce6f5"
   },
   "source": [
    "# Опрос нейронной сети"
   ]
  },
  {
   "cell_type": "markdown",
   "id": "f03c1cbe-3b60-4f21-b174-54df49eb4016",
   "metadata": {
    "id": "f03c1cbe-3b60-4f21-b174-54df49eb4016"
   },
   "source": [
    "## Опрос по всем образцам"
   ]
  },
  {
   "cell_type": "markdown",
   "id": "f121f733-5c13-42c6-85ae-53e1f1c6199e",
   "metadata": {
    "id": "f121f733-5c13-42c6-85ae-53e1f1c6199e"
   },
   "source": [
    "Для начала проверим как НС различает образцы, на которых она была обучена.\n",
    "Для получения ответов НС используем функцию `.sim (input)`, где `input` - также массив из одного и более образцов - одномерных векторов (N, h*w)."
   ]
  },
  {
   "cell_type": "code",
   "execution_count": 110,
   "id": "b3229c1c-8ad3-4d7d-941b-33e5e219ad6a",
   "metadata": {
    "colab": {
     "base_uri": "https://localhost:8080/"
    },
    "id": "b3229c1c-8ad3-4d7d-941b-33e5e219ad6a",
    "outputId": "5dc5ca09-4112-486c-e520-2491d1082337"
   },
   "outputs": [
    {
     "name": "stdout",
     "output_type": "stream",
     "text": [
      "output shape = (2, 100)\n"
     ]
    }
   ],
   "source": [
    "# Получить ответы НС\n",
    "output = net.sim(\n",
    "    input=selectedTargetNumpy.reshape(countOfImgs, -1)\n",
    ")\n",
    "print('output shape =', output.shape)"
   ]
  },
  {
   "cell_type": "markdown",
   "id": "rJLvD9CeUK_g",
   "metadata": {
    "id": "rJLvD9CeUK_g"
   },
   "source": [
    "Обратите внимание, что ответ НС `output` также состоит из набора одномерных векторов, которые необходимо привести к размерности исходных изображений."
   ]
  },
  {
   "cell_type": "code",
   "execution_count": 111,
   "id": "UclY06mDT7Pw",
   "metadata": {
    "colab": {
     "base_uri": "https://localhost:8080/"
    },
    "id": "UclY06mDT7Pw",
    "outputId": "60a8912d-1c4b-4e5e-cb33-afc31efc8e73"
   },
   "outputs": [],
   "source": [
    "output = output.reshape( # перепаковать ответы НС к размерности изображений (N, h, w)\n",
    "    output.shape[0],       # N - кол-во ответов НС\n",
    "    selectedTargetNumpy.shape[1],  # h - высота исходного изобр.\n",
    "    selectedTargetNumpy.shape[2],  # w - ширина исходного изобр.\n",
    ")"
   ]
  },
  {
   "cell_type": "markdown",
   "id": "cc480b6e-b0cc-4786-9150-50715a4fd8e9",
   "metadata": {
    "id": "cc480b6e-b0cc-4786-9150-50715a4fd8e9"
   },
   "source": [
    "Для наглядного сравнения входных значений и ответов НС отобразим эти пары в виде изображений."
   ]
  },
  {
   "cell_type": "code",
   "execution_count": 112,
   "id": "98211369-8917-4118-95a5-80caff67c41c",
   "metadata": {
    "colab": {
     "base_uri": "https://localhost:8080/",
     "height": 306
    },
    "id": "98211369-8917-4118-95a5-80caff67c41c",
    "outputId": "26aeb9da-bd3a-4e62-e0d3-63f84e99f65e"
   },
   "outputs": [
    {
     "data": {
      "image/png": "[encoded data removed]",
      "text/plain": [
       "<Figure size 400x300 with 4 Axes>"
      ]
     },
     "metadata": {},
     "output_type": "display_data"
    }
   ],
   "source": [
    "fig, axs = plt.subplots( # создать полотно сетку\n",
    "    nrows=countOfImgs,          # кол-во строк = образцов\n",
    "    ncols=2,                    # кол-во столбцов = 2\n",
    "    figsize=(4, countOfImgs*1.5)\n",
    ")\n",
    "\n",
    "# для каждого изображений\n",
    "for i, img in enumerate(selectedTargetNumpy):\n",
    "\n",
    "    if countOfImgs ==1: # axs[номер строки][номер столбца]\n",
    "        leftAx =  axs[0]\n",
    "        rightAx =  axs[1]\n",
    "    else:\n",
    "        leftAx  = axs[i][0]\n",
    "        rightAx = axs[i][1]\n",
    "\n",
    "    leftAx.imshow(   # отобразить массив как тепловую карту\n",
    "       selectedTargetNumpy[i],  # данные\n",
    "       #cmap='gray'     # название цветовой шкалы\n",
    "    )\n",
    "    leftAx.set_title('Входное')\n",
    "\n",
    "    rightAx.imshow(  # отобразить массив как тепловую карту\n",
    "       output[i],      # данные\n",
    "       #cmap='gray'    # название цветовой шкалы\n",
    "    )\n",
    "    rightAx.set_title('Выходное')\n",
    "plt.tight_layout()"
   ]
  },
  {
   "cell_type": "code",
   "execution_count": null,
   "id": "a8c1f0e7-9d47-4857-95bf-2e31cd887404",
   "metadata": {
    "id": "a8c1f0e7-9d47-4857-95bf-2e31cd887404"
   },
   "outputs": [],
   "source": []
  },
  {
   "cell_type": "markdown",
   "id": "54fc96b2-c2d7-43c9-8c84-2c3ce6731342",
   "metadata": {
    "id": "54fc96b2-c2d7-43c9-8c84-2c3ce6731342"
   },
   "source": [
    "## Опрос по единственному образцу с искажениями"
   ]
  },
  {
   "cell_type": "markdown",
   "id": "8c281fda-8c89-4927-a380-8cea2ce25a2c",
   "metadata": {
    "id": "8c281fda-8c89-4927-a380-8cea2ce25a2c"
   },
   "source": [
    "Выберем один из исходных символов, внеся в него искажения путём замены значений матрицы пикселей."
   ]
  },
  {
   "cell_type": "code",
   "execution_count": 113,
   "id": "bf87634e-e849-493f-89e4-3116aa16e276",
   "metadata": {
    "id": "bf87634e-e849-493f-89e4-3116aa16e276",
    "outputId": "ce0f54c3-3b13-4c7e-b6ef-ac1922dc0724"
   },
   "outputs": [
    {
     "data": {
      "text/plain": [
       "array([[0., 0., 0., 0., 0., 0., 0., 0., 0., 0.],\n",
       "       [0., 0., 0., 0., 0., 0., 0., 0., 0., 0.],\n",
       "       [0., 0., 0., 0., 1., 1., 0., 0., 0., 0.],\n",
       "       [0., 0., 0., 1., 0., 0., 1., 0., 0., 0.],\n",
       "       [0., 0., 0., 1., 0., 0., 1., 0., 0., 0.],\n",
       "       [0., 0., 1., 0., 0., 0., 0., 1., 0., 0.],\n",
       "       [0., 0., 1., 0., 0., 0., 0., 1., 0., 0.],\n",
       "       [0., 1., 0., 0., 0., 0., 0., 0., 1., 0.],\n",
       "       [0., 1., 1., 1., 1., 1., 1., 1., 1., 0.],\n",
       "       [0., 0., 0., 0., 0., 0., 0., 0., 0., 0.]])"
      ]
     },
     "execution_count": 113,
     "metadata": {},
     "output_type": "execute_result"
    }
   ],
   "source": [
    "testImg = selectedTargetNumpy[1] # получить исходный символ из выбранного комплекта\n",
    "testImg[testImg==-1] = 0 # для повышения читаемости произвести обратную замену -1 на 0\n",
    "testImg"
   ]
  },
  {
   "cell_type": "markdown",
   "id": "706324e8-c5b6-4f3c-bdaa-d2398b5d571a",
   "metadata": {
    "id": "706324e8-c5b6-4f3c-bdaa-d2398b5d571a"
   },
   "source": [
    "Используем значения предыдущего вывода для создания нового массива `testImgNoised` (для быстрого редактирования вертикальной области используйте множественное выделение текста комбинацией SHIFT+ALT+CTRL+Левая кнопка мыши)."
   ]
  },
  {
   "cell_type": "code",
   "execution_count": 114,
   "id": "712bb1f9-3362-41b0-b0de-c60471d6a9ef",
   "metadata": {
    "colab": {
     "base_uri": "https://localhost:8080/",
     "height": 256
    },
    "id": "712bb1f9-3362-41b0-b0de-c60471d6a9ef",
    "outputId": "84f2d005-9bdb-4711-da5c-e6230fa62d94"
   },
   "outputs": [
    {
     "name": "stdout",
     "output_type": "stream",
     "text": [
      "testImg shape =  (10, 10)\n"
     ]
    },
    {
     "data": {
      "text/plain": [
       "<matplotlib.colorbar.Colorbar at 0x7f9215d0e4d0>"
      ]
     },
     "execution_count": 114,
     "metadata": {},
     "output_type": "execute_result"
    },
    {
     "data": {
      "image/png": "[encoded data removed]",
      "text/plain": [
       "<Figure size 200x200 with 2 Axes>"
      ]
     },
     "metadata": {},
     "output_type": "display_data"
    }
   ],
   "source": [
    "testImgNoised = np.asfarray(\n",
    "            [0, 0, 0, 0, 0, 0, 0, 0, 0, 0,\n",
    "            0, 0, 0, 0, 1, 1, 0, 0, 0, 0,\n",
    "            0, 0, 0, 0, 0, 0, 0, 0, 0, 0,\n",
    "            0, 0, 0, 0, 0, 0, 0, 0, 0, 0,\n",
    "            0, 1, 0, 0, 1, 1, 1, 1, 1, 0,\n",
    "            0, 0, 0, 0, 1, 1, 1, 1, 1, 0,\n",
    "            0, 0, 0, 0, 0, 0, 0, 0, 0, 0,\n",
    "            0, 0, 0, 0, 0, 0, 0, 0, 0, 0,\n",
    "            0, 0, 0, 0, 0, 0, 0, 0, 0, 0,\n",
    "            0, 0, 0, 0, 0, 0, 0, 0, 0, 0,\n",
    "])\n",
    "testImgNoised = testImgNoised.reshape(10,10) # приведение к массива размерности (35,) к (7,5)\n",
    "testImgNoised[testImgNoised==0] = -1 # замена нулей на -1\n",
    "print('testImg shape = ', testImg.shape)\n",
    "\n",
    "plt.figure(figsize=(2,2)) # создать полотно для рисования, figsize-размер в дюймах\n",
    "plt.imshow( # отобразить массив как тепловую карту\n",
    "    testImgNoised,        # данные\n",
    "    #cmap='gray' # название цветовой шкалы\n",
    ")\n",
    "plt.colorbar()            # отобразить цветовую шкалу"
   ]
  },
  {
   "cell_type": "markdown",
   "id": "Lpt7CIRvkIL2",
   "metadata": {
    "id": "Lpt7CIRvkIL2"
   },
   "source": [
    "Содержимое матрицы `testImgNoised` для передачи в НС должно быть преобразовано к массиву одномерных векторов. Выполнить эту операцию можно нескольким способами, например:\n",
    "  - testImg.reshape(1,-1)"
   ]
  },
  {
   "cell_type": "code",
   "execution_count": 115,
   "id": "1f52bb16-6d09-470b-8005-6764bdcc2542",
   "metadata": {
    "colab": {
     "base_uri": "https://localhost:8080/"
    },
    "id": "1f52bb16-6d09-470b-8005-6764bdcc2542",
    "outputId": "e6b56d7b-4511-41bb-eed6-5d4d05975659"
   },
   "outputs": [
    {
     "data": {
      "text/plain": [
       "(1, 100)"
      ]
     },
     "execution_count": 115,
     "metadata": {},
     "output_type": "execute_result"
    }
   ],
   "source": [
    "testImgNoised.reshape(1,-1).shape"
   ]
  },
  {
   "cell_type": "code",
   "execution_count": 119,
   "id": "bf79287c-87fd-42d7-8b1c-7cabde3dff6d",
   "metadata": {
    "colab": {
     "base_uri": "https://localhost:8080/"
    },
    "id": "bf79287c-87fd-42d7-8b1c-7cabde3dff6d",
    "outputId": "c47f9119-f1b5-4532-f9b3-9b0f50ea36ef"
   },
   "outputs": [],
   "source": [
    "# Получить ответ\n",
    "out = net.sim(\n",
    "    input=testImgNoised.reshape(1,-1) )\n",
    "\n",
    "out = out.reshape(10,10) # приведение к массива размерности (H*W,) к (H,W)"
   ]
  },
  {
   "cell_type": "markdown",
   "id": "NL0zWE9skh3Z",
   "metadata": {
    "id": "NL0zWE9skh3Z"
   },
   "source": [
    "Для сравнения входного и выходного изображения сопоставим их в графическом виде."
   ]
  },
  {
   "cell_type": "code",
   "execution_count": 120,
   "id": "aacbaf2d-0fb1-456b-81b1-cc7f1a57ec5e",
   "metadata": {
    "colab": {
     "base_uri": "https://localhost:8080/",
     "height": 218
    },
    "id": "aacbaf2d-0fb1-456b-81b1-cc7f1a57ec5e",
    "outputId": "61065c2b-6e16-4611-8432-486ad9c9e0d5"
   },
   "outputs": [
    {
     "data": {
      "image/png": "[encoded data removed]",
      "text/plain": [
       "<Figure size 600x200 with 3 Axes>"
      ]
     },
     "metadata": {},
     "output_type": "display_data"
    }
   ],
   "source": [
    "fig, axs = plt.subplots(nrows=1, ncols=3, figsize=(6, 2)) # создать несколько полотен для рисования, figsize-размер в дюймах, nrows - строк, ncols - столбцов\n",
    "# axs[номер столбца]\n",
    "axs[0].imshow(testImgNoised)\n",
    "axs[1].imshow(out)\n",
    "axs[2].imshow(testImg)\n",
    "axs[0].set_title('Входное test')\n",
    "axs[1].set_title('Выходное out')\n",
    "axs[2].set_title('Ожидаемый вид')\n",
    "fig.suptitle('Проверка работы при искажениях входного сигнала')\n",
    "plt.tight_layout()"
   ]
  },
  {
   "cell_type": "code",
   "execution_count": null,
   "id": "3a33e88c-4309-4a99-9bb3-fa3a4af4980b",
   "metadata": {
    "id": "3a33e88c-4309-4a99-9bb3-fa3a4af4980b"
   },
   "outputs": [],
   "source": []
  },
  {
   "cell_type": "markdown",
   "id": "b7bf6bab-0693-4d96-9b31-4ddbf22b1fc5",
   "metadata": {
    "id": "b7bf6bab-0693-4d96-9b31-4ddbf22b1fc5",
    "jp-MarkdownHeadingCollapsed": true
   },
   "source": [
    "## Опрос по прямому графическому вводу"
   ]
  },
  {
   "cell_type": "markdown",
   "id": "a69978f4-4b5e-46da-adcb-f5755fde7fad",
   "metadata": {
    "id": "a69978f4-4b5e-46da-adcb-f5755fde7fad"
   },
   "source": [
    "Используя графическое окно для рисования символов, проверьте влияния места расположения и степени искажений на ответы НС.\n",
    "\n",
    "Запустите следующий код, в результате появится **два** окна. \"Область рисования\" предназначена для создания графического символа, при нажатии кнопки \"Получить ответ\" текущее содержимое будет передано на вход связанной НС. Ответ НС будет отображен в окне \"Вывод сети Хопфилда\". Обратите внимание на необходимость держать в соответствии размер поля для рисования и кол-во узлов (входов и выходов) НС.\n",
    "\n",
    "Выполнение следующей команды создаст и отобразит графическое окно. Эта команда является блокирующей дальнейшее выполнение кода. **Обязательно закройте графическое окно** перед выполнением дальнейших команд."
   ]
  },
  {
   "cell_type": "code",
   "execution_count": null,
   "id": "86d9dfc9-6a32-4f40-9468-b1a20c96deb6",
   "metadata": {
    "id": "86d9dfc9-6a32-4f40-9468-b1a20c96deb6",
    "outputId": "6e1afd40-74c3-44cc-b1ae-b8186bd026d3"
   },
   "outputs": [
    {
     "name": "stdout",
     "output_type": "stream",
     "text": [
      "Кол-во узлов выбранной НС Хопфилда = 100\n"
     ]
    }
   ],
   "source": [
    "print(f'Кол-во узлов выбранной НС Хопфилда = {net.ci}')"
   ]
  },
  {
   "cell_type": "code",
   "execution_count": null,
   "id": "aa37658d-f411-4a0a-9664-1cc58bf08cf6",
   "metadata": {
    "id": "aa37658d-f411-4a0a-9664-1cc58bf08cf6",
    "outputId": "6c374c77-65fd-42b3-8160-1be545d87145"
   },
   "outputs": [
    {
     "name": "stdout",
     "output_type": "stream",
     "text": [
      "Размер изображения ШхВ = 10х10 пикс.\n",
      "РЕЖИМ РАБОТЫ: ассоциация сетью Хопфилда\n"
     ]
    }
   ],
   "source": [
    "myWinTK (\n",
    "    imgW=10, ImgH=10,  # размер поля для создания изображения\n",
    "    modelHopfield=net,   # передать в качестве параметра обученную модель НС Хопфилда библиотеки neurolab\n",
    ");"
   ]
  },
  {
   "cell_type": "code",
   "execution_count": null,
   "id": "hcnEN4f3bHrU",
   "metadata": {
    "id": "hcnEN4f3bHrU"
   },
   "outputs": [],
   "source": []
  },
  {
   "cell_type": "markdown",
   "id": "NWYa-42YbIJr",
   "metadata": {
    "id": "NWYa-42YbIJr"
   },
   "source": [
    "# Выводы"
   ]
  },
  {
   "cell_type": "markdown",
   "id": "QjtlEKtsa9OL",
   "metadata": {
    "id": "QjtlEKtsa9OL"
   },
   "source": [
    "\n",
    "- Сделайте заключения и обобщения на основе полученных результатов;\n",
    "- Оцените изменение карты весов при увеличении кол-ва запоминаемых сетью образцов;\n",
    "- Оцените устойчивость НС к искажениям входных изображений;\n",
    "- Оцените влияние вида символов в обучающем наборе на успешность его корректного распознавания;\n",
    "- …\n",
    "__________________________________\n",
    "__________________________________\n",
    "__________________________________\n",
    "__________________________________\n",
    "__________________________________"
   ]
  },
  {
   "cell_type": "code",
   "execution_count": null,
   "id": "9823b702-628a-4682-8fc1-5df266a574f1",
   "metadata": {
    "id": "9823b702-628a-4682-8fc1-5df266a574f1"
   },
   "outputs": [],
   "source": []
  }
 ],
 "metadata": {
  "colab": {
   "provenance": []
  },
  "kernelspec": {
   "display_name": "Python 3 (ipykernel)",
   "language": "python",
   "name": "python3"
  },
  "language_info": {
   "codemirror_mode": {
    "name": "ipython",
    "version": 3
   },
   "file_extension": ".py",
   "mimetype": "text/x-python",
   "name": "python",
   "nbconvert_exporter": "python",
   "pygments_lexer": "ipython3",
   "version": "3.11.5"
  }
 },
 "nbformat": 4,
 "nbformat_minor": 5
}
